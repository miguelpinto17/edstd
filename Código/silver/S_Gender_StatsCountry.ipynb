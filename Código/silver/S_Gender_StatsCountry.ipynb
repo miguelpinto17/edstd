{
 "cells": [
  {
   "cell_type": "code",
   "execution_count": 1,
   "id": "palestinian-istanbul",
   "metadata": {},
   "outputs": [],
   "source": [
    "from pyspark.sql import SparkSession\n",
    "from pyspark.sql import Row\n",
    "from pyspark.sql.types import StructType, StructField, StringType, IntegerType\n",
    "from pyspark.sql.functions import col, regexp_replace, when\n",
    "from delta import *\n",
    "\n",
    "# warehouse_location points to the default location for managed databases and tables\n",
    "warehouse_location = 'hdfs://hdfs-nn:9000/warehouse'\n",
    "\n",
    "builder = SparkSession \\\n",
    "    .builder \\\n",
    "    .master(\"local[2]\") \\\n",
    "    .appName(\"Python Spark DataFrames and SQL\") \\\n",
    "    .config(\"spark.sql.warehouse.dir\", warehouse_location) \\\n",
    "    .config(\"hive.metastore.uris\", \"thrift://hive-metastore:9083\") \\\n",
    "    .config(\"spark.sql.extensions\", \"io.delta.sql.DeltaSparkSessionExtension\") \\\n",
    "    .config(\"spark.sql.catalog.spark_catalog\", \"org.apache.spark.sql.delta.catalog.DeltaCatalog\") \\\n",
    "    .config(\"spark.jars.packages\", \"io.delta:delta-core_2.12:2.4.0\") \\\n",
    "    .enableHiveSupport() \\\n",
    "\n",
    "spark = builder.getOrCreate() #spark = configure_spark_with_delta_pip(builder).getOrCreate()"
   ]
  },
  {
   "cell_type": "code",
   "execution_count": 2,
   "id": "blocked-liability",
   "metadata": {},
   "outputs": [],
   "source": [
    "#Indica o caminho onde o csv esta armanezado\n",
    "hdfs_path = \"hdfs://hdfs-nn:9000/projeto/bronze/Stats_Country.csv\""
   ]
  },
  {
   "cell_type": "code",
   "execution_count": 3,
   "id": "interracial-baker",
   "metadata": {},
   "outputs": [],
   "source": [
    "# Le o Csv, mas ignora o cabeçalho\n",
    "shoot = spark.read.option(\"header\", True) \\\n",
    "                  .option(\"multiline\", True) \\\n",
    "                  .option(\"inferSchema\", True) \\\n",
    "                  .option(\"escape\", '\"') \\\n",
    "                  .csv(hdfs_path)\n"
   ]
  },
  {
   "cell_type": "code",
   "execution_count": 4,
   "id": "4ebd1d2f-321f-4daa-bd6e-05acccd70543",
   "metadata": {},
   "outputs": [],
   "source": [
    "# Substituir valores nulos na coluna \"2-alpha code\" com \"FE\"\n",
    "#Optei por aplicar o alfa code da ilha de jersey porque é a maior ilha e com mais população do canal da mancha.\n",
    "shoot = shoot.withColumn(\n",
    "    \"2-alpha code\",\n",
    "    when(\n",
    "        col(\"2-alpha code\").isNull(),\n",
    "        \"FE\"\n",
    "    ).otherwise(col(\"2-alpha code\"))\n",
    ")"
   ]
  },
  {
   "cell_type": "code",
   "execution_count": 5,
   "id": "7f9940e6-0474-4d1a-be2a-2ed9ed7db01c",
   "metadata": {},
   "outputs": [
    {
     "name": "stdout",
     "output_type": "stream",
     "text": [
      "['Country Code', 'Short Name', 'Table Name', 'Long Name', '2-alpha code', 'Currency Unit', 'Special Notes', 'Region', 'Income Group', 'WB-2 code', 'National accounts base year', 'National accounts reference year', 'SNA price valuation', 'Lending category', 'Other groups', 'System of National Accounts', 'Alternative conversion factor', 'PPP survey year', 'Balance of Payments Manual in use', 'External debt Reporting status', 'System of trade', 'Government Accounting concept', 'IMF data dissemination standard', 'Latest population census', 'Latest household survey', 'Source of most recent Income and expenditure data', 'Vital registration complete', 'Latest agricultural census', 'Latest industrial data', 'Latest trade data', '_c30']\n"
     ]
    }
   ],
   "source": [
    "print(shoot.columns)\n"
   ]
  },
  {
   "cell_type": "code",
   "execution_count": 6,
   "id": "e6657028-dfc4-4589-86f9-8b98ff3cef01",
   "metadata": {},
   "outputs": [],
   "source": [
    "#Para eliminar o \"\\n\" que desformata as linhas\n",
    "shoot = shoot.withColumn(\"2-alpha code\", regexp_replace(col(\"2-alpha code\"), \"\\n\", \"\"))"
   ]
  },
  {
   "cell_type": "code",
   "execution_count": 7,
   "id": "d685e570-36e5-4a3b-b447-6361377f0030",
   "metadata": {},
   "outputs": [],
   "source": [
    "from pyspark.sql.functions import col, when\n",
    "\n",
    "#No conjuntos de paises/organizações, que por serem organizações não requerem moeda propria, aplicamos o valor \"uk\n",
    "\n",
    "shoot = shoot.withColumn(\n",
    "    \"Currency Unit\",\n",
    "    when(\n",
    "        col(\"Currency Unit\").isNull(),\n",
    "        \"Unknown\"\n",
    "    ).otherwise(col(\"Currency Unit\"))\n",
    ")"
   ]
  },
  {
   "cell_type": "code",
   "execution_count": 8,
   "id": "8ed109a3-08a2-4f45-9874-58deffeadb0a",
   "metadata": {},
   "outputs": [],
   "source": [
    "#Substituir as notas especiais nulas para \"Unknown\"\n",
    "shoot = shoot.withColumn(\n",
    "    \"Special Notes\",\n",
    "    when(\n",
    "        col(\"Special Notes\").isNull(),\n",
    "        \"Unknown\"\n",
    "    ).otherwise(col(\"Special Notes\"))\n",
    ")"
   ]
  },
  {
   "cell_type": "code",
   "execution_count": 9,
   "id": "762677ae-eea6-40d5-a847-a654e2dcb765",
   "metadata": {},
   "outputs": [],
   "source": [
    "#Conjuntos de países/organizações não tem localização geográfica própria, logo temos de alterar o valor nulo para \"Unknown\"\n",
    "shoot = shoot.withColumn( \n",
    "    \"Region\",\n",
    "    when(\n",
    "        col(\"Region\").isNull(),\n",
    "        \"Unknown\"\n",
    "    ).otherwise(col(\"Region\"))\n",
    ")"
   ]
  },
  {
   "cell_type": "code",
   "execution_count": 10,
   "id": "0054ce56-f4d7-4358-b5e8-adf163a00fa7",
   "metadata": {},
   "outputs": [],
   "source": [
    "#Conjuntos de países/organizações podem ter várias regiões num mesmo conjunto, logo temos de alterar o valor nulo para \"Unknown\"\n",
    "shoot = shoot.withColumn( \n",
    "    \"Income Group\",\n",
    "    when(\n",
    "        col(\"Income Group\").isNull(),\n",
    "        \"Unknown\"\n",
    "    ).otherwise(col(\"Income Group\"))\n",
    ")"
   ]
  },
  {
   "cell_type": "code",
   "execution_count": 11,
   "id": "1c94a594-f779-4b06-8225-c16836377e05",
   "metadata": {},
   "outputs": [],
   "source": [
    "#Conjuntos de países/organizações não tem um ano base de uma conta nacional , logo temos de alterar o valor nulo para \"Unknown\"\n",
    "shoot = shoot.withColumn( \n",
    "    \"National accounts base year\",\n",
    "    when(\n",
    "        col(\"National accounts base year\").isNull(),\n",
    "        \"Unknown\"\n",
    "    ).otherwise(col(\"National accounts base year\"))\n",
    ")"
   ]
  },
  {
   "cell_type": "code",
   "execution_count": 12,
   "id": "594e9004-0a7a-4925-9274-ff0545e25e5a",
   "metadata": {},
   "outputs": [],
   "source": [
    "#Nem todos os países/organizações tem um ano referência de uma conta nacional , logo temos de alterar o valor nulo para \"Unknown\"\n",
    "shoot = shoot.withColumn( \n",
    "    \"National accounts reference year\",\n",
    "    when(\n",
    "        col(\"National accounts reference year\").isNull(),\n",
    "        \"Unknown\"\n",
    "    ).otherwise(col(\"National accounts reference year\"))\n",
    ")"
   ]
  },
  {
   "cell_type": "code",
   "execution_count": 13,
   "id": "b9ab4e74-bb9b-40db-8525-e4deca016236",
   "metadata": {},
   "outputs": [],
   "source": [
    "#Conjuntos de países/organizações não tem métodos de valoração de preços, logo temos de alterar o valor nulo para \"Unknown\"\n",
    "shoot = shoot.withColumn( \n",
    "    \"SNA price valuation\",\n",
    "    when(\n",
    "        col(\"SNA price valuation\").isNull(),\n",
    "        \"Unknown\"\n",
    "    ).otherwise(col(\"SNA price valuation\"))\n",
    ")"
   ]
  },
  {
   "cell_type": "code",
   "execution_count": 14,
   "id": "94e0c856-8d50-4c2e-8589-0ddd204166c6",
   "metadata": {},
   "outputs": [],
   "source": [
    "#Nem todos os países/organizações tem público o financiamente que recebem de instituições finanaceiras internacionais, logo temos de alterar o valor nulo para \"Unknown\"\n",
    "shoot = shoot.withColumn( \n",
    "    \"Lending category\",\n",
    "    when(\n",
    "        col(\"Lending category\").isNull(),\n",
    "        \"Unknown\"\n",
    "    ).otherwise(col(\"Lending category\"))\n",
    ")"
   ]
  },
  {
   "cell_type": "code",
   "execution_count": 15,
   "id": "e5142623-b269-4da6-a885-6ea55a50064b",
   "metadata": {},
   "outputs": [],
   "source": [
    "#Outras informações opcionais sobre os países/organizações, aos que tiverem o valor nulo  temos de mudar para \"Unknown\"\n",
    "shoot = shoot.withColumn( \n",
    "    \"Other groups\",\n",
    "    when(\n",
    "        col(\"Other groups\").isNull(),\n",
    "        \"Unknown\"\n",
    "    ).otherwise(col(\"Other groups\"))\n",
    ")"
   ]
  },
  {
   "cell_type": "code",
   "execution_count": 16,
   "id": "d8d0caba-905a-4943-887b-02300b0f7f1e",
   "metadata": {},
   "outputs": [],
   "source": [
    "#As organizações não possuem um sistema nacional de contas , logo temos de alterar o valor nulo para \"Unknown\"\n",
    "shoot = shoot.withColumn( \n",
    "    \"System of National Accounts\",\n",
    "    when(\n",
    "        col(\"System of National Accounts\").isNull(),\n",
    "        \"Unknown\"\n",
    "    ).otherwise(col(\"System of National Accounts\"))\n",
    ")"
   ]
  },
  {
   "cell_type": "code",
   "execution_count": 17,
   "id": "86b815f2-d9b7-4a9b-b016-4db73848b8a9",
   "metadata": {},
   "outputs": [],
   "source": [
    "#Nenhuma linha da coluna apresenta valor, logo iremos remover a coluna: \"Alternative conversion factor\"\n",
    "shoot = shoot.drop(\"Alternative conversion factor\")"
   ]
  },
  {
   "cell_type": "code",
   "execution_count": 18,
   "id": "aeac45e7-59ad-493f-9fe8-65ad5753741e",
   "metadata": {},
   "outputs": [],
   "source": [
    "#Nenhuma linha da coluna apresenta valor, logo iremos remover a coluna: \"PPP survey year\"\n",
    "shoot = shoot.drop(\"PPP survey year\")"
   ]
  },
  {
   "cell_type": "code",
   "execution_count": 19,
   "id": "fd03e1b5-5165-4273-9d7d-4f56e4aee76e",
   "metadata": {},
   "outputs": [],
   "source": [
    "#As organizações não possuem balanço de pagamentos , logo temos de alterar o valor nulo para \"Unknown\"\n",
    "shoot = shoot.withColumn( \n",
    "    \"Balance of Payments Manual in use\",\n",
    "    when(\n",
    "        col(\"Balance of Payments Manual in use\").isNull(),\n",
    "        \"Unknown\"\n",
    "    ).otherwise(col(\"Balance of Payments Manual in use\"))\n",
    ")"
   ]
  },
  {
   "cell_type": "code",
   "execution_count": 20,
   "id": "701eccf1-e49c-4751-be19-ee070e3a9704",
   "metadata": {},
   "outputs": [],
   "source": [
    "#Nem todos os países/organizações revelam o débito externo , logo temos de alterar o valor nulo para \"Unknown\"\n",
    "shoot = shoot.withColumn( \n",
    "    \"External debt Reporting status\",\n",
    "    when(\n",
    "        col(\"External debt Reporting status\").isNull(),\n",
    "        \"Unknown\"\n",
    "    ).otherwise(col(\"External debt Reporting status\"))\n",
    ")"
   ]
  },
  {
   "cell_type": "code",
   "execution_count": 21,
   "id": "448d018c-1d15-495c-9d26-41f190870d44",
   "metadata": {},
   "outputs": [],
   "source": [
    "#Nem todos os  países/organizações não possuem um sistema para acompanhar as transações comerciais, logo temos de alterar o valor nulo para \"Unknown\"\n",
    "shoot = shoot.withColumn( \n",
    "    \"System of trade\",\n",
    "    when(\n",
    "        col(\"System of trade\").isNull(),\n",
    "        \"Unknown\"\n",
    "    ).otherwise(col(\"System of trade\"))\n",
    ")"
   ]
  },
  {
   "cell_type": "code",
   "execution_count": 22,
   "id": "df41b4c7-5248-4bb0-88c3-897ab686d68d",
   "metadata": {},
   "outputs": [],
   "source": [
    "#Nem todos os países/organizações possuem conceitos contabilisticos especifico , logo temos de alterar o valor nulo para \"Unknown\"\n",
    "shoot = shoot.withColumn( \n",
    "    \"Government Accounting concept\",\n",
    "    when(\n",
    "        col(\"Government Accounting concept\").isNull(),\n",
    "        \"Unknown\"\n",
    "    ).otherwise(col(\"Government Accounting concept\"))\n",
    ")"
   ]
  },
  {
   "cell_type": "code",
   "execution_count": 23,
   "id": "4c7bd282-ea05-43f2-a891-c8c4cae17f67",
   "metadata": {},
   "outputs": [],
   "source": [
    "#Nem todos os países/organizações possuem padrão o de disseminação de dados usado pelo FMI, logo temos de alterar o valor nulo para \"Unknown\"\n",
    "shoot = shoot.withColumn( \n",
    "    \"IMF data dissemination standard\",\n",
    "    when(\n",
    "        col(\"IMF data dissemination standard\").isNull(),\n",
    "        \"Unknown\"\n",
    "    ).otherwise(col(\"IMF data dissemination standard\"))\n",
    ")"
   ]
  },
  {
   "cell_type": "code",
   "execution_count": 24,
   "id": "cc9795e4-fd24-46be-8c4f-0ffc418d6634",
   "metadata": {},
   "outputs": [],
   "source": [
    "#Nem todos os países/organizações possuem censos da população, logo temos de alterar o valor nulo para \"Unknown\"\n",
    "shoot = shoot.withColumn( \n",
    "    \"Latest population census\",\n",
    "    when(\n",
    "        col(\"Latest population census\").isNull(),\n",
    "        \"Unknown\"\n",
    "    ).otherwise(col(\"Latest population census\"))\n",
    ")"
   ]
  },
  {
   "cell_type": "code",
   "execution_count": 25,
   "id": "5cf6b1f2-1913-4f78-8888-b148e91c3324",
   "metadata": {},
   "outputs": [],
   "source": [
    "#Nem todos os países/organizações possuem pesquisas domiciliares, logo temos de alterar o valor nulo para \"Unknown\"\n",
    "shoot = shoot.withColumn( \n",
    "    \"Latest household survey\",\n",
    "    when(\n",
    "        col(\"Latest household survey\").isNull(),\n",
    "        \"Unknown\"\n",
    "    ).otherwise(col(\"Latest household survey\"))\n",
    ")"
   ]
  },
  {
   "cell_type": "code",
   "execution_count": 26,
   "id": "30ff0286-94de-4ab4-8094-01f90d5bf720",
   "metadata": {},
   "outputs": [],
   "source": [
    "#Não há fontes mais recentes para os dados, logo temos de alterar o valor nulo para \"Unknown\"\n",
    "shoot = shoot.withColumn( \n",
    "    \"Source of most recent Income and expenditure data\",\n",
    "    when(\n",
    "        col(\"Source of most recent Income and expenditure data\").isNull(),\n",
    "        \"Unknown\"\n",
    "    ).otherwise(col(\"Source of most recent Income and expenditure data\"))\n",
    ")"
   ]
  },
  {
   "cell_type": "code",
   "execution_count": 27,
   "id": "5baf9769-ce94-454d-95ad-5be5ae959661",
   "metadata": {},
   "outputs": [],
   "source": [
    "#Nem todos os países/organizações possuem registos vitais, logo temos de alterar o valor nulo para \"Unknown\"\n",
    "shoot = shoot.withColumn( \n",
    "    \"Vital registration complete\",\n",
    "    when(\n",
    "        col(\"Vital registration complete\").isNull(),\n",
    "        \"Unknown\"\n",
    "    ).otherwise(col(\"Vital registration complete\"))\n",
    ")"
   ]
  },
  {
   "cell_type": "code",
   "execution_count": 28,
   "id": "3112ec15-b90d-4572-aab8-6346990c65ef",
   "metadata": {},
   "outputs": [],
   "source": [
    "#Nem todos os países/organizações possuem censos da agricultura, logo temos de alterar o valor nulo para \"Unknown\"\n",
    "shoot = shoot.withColumn( \n",
    "    \"Latest agricultural census\",\n",
    "    when(\n",
    "        col(\"Latest agricultural census\").isNull(),\n",
    "        \"Unknown\"\n",
    "    ).otherwise(col(\"Latest agricultural census\"))\n",
    ")"
   ]
  },
  {
   "cell_type": "code",
   "execution_count": 29,
   "id": "d6ae9400-6f32-4c59-8112-8c30a7dbae1c",
   "metadata": {},
   "outputs": [],
   "source": [
    "#Nem todos os países/organizações possuem dados industriais, logo temos de alterar o valor nulo para \"Unknown\"\n",
    "shoot = shoot.withColumn( \n",
    "    \"Latest industrial data\",\n",
    "    when(\n",
    "        col(\"Latest industrial data\").isNull(),\n",
    "        \"Unknown\"\n",
    "    ).otherwise(col(\"Latest industrial data\"))\n",
    ")"
   ]
  },
  {
   "cell_type": "code",
   "execution_count": 30,
   "id": "19cf496b-8b45-4138-90ae-a0b2bad92ea0",
   "metadata": {},
   "outputs": [],
   "source": [
    "#Nem todos os países/organizações possuem dados comerciais, logo temos de alterar o valor nulo para \"Unknown\"\n",
    "shoot = shoot.withColumn( \n",
    "    \"Latest trade data\",\n",
    "    when(\n",
    "        col(\"Latest trade data\").isNull(),\n",
    "        \"Unknown\"\n",
    "    ).otherwise(col(\"Latest trade data\"))\n",
    ")"
   ]
  },
  {
   "cell_type": "code",
   "execution_count": 31,
   "id": "4a36c899-f09b-4f55-a896-520ffe2a21a0",
   "metadata": {},
   "outputs": [],
   "source": [
    "#Eliminar a c30 que não tem nenhuma informacao\n",
    "shoot = shoot.drop(\"_c30\")"
   ]
  },
  {
   "cell_type": "code",
   "execution_count": 32,
   "id": "5ecee420-ac1e-4382-abc4-60648dc75199",
   "metadata": {},
   "outputs": [],
   "source": [
    "shoot = shoot.withColumnRenamed(\"Country Code\", \"Country_Code\") \n",
    "shoot = shoot.withColumnRenamed(\"Short Name\", \"Short_Name\") \n",
    "shoot = shoot.withColumnRenamed(\"Table Name\", \"Table_Name\") \n",
    "shoot = shoot.withColumnRenamed(\"Long Name\", \"Long_name\") \n",
    "shoot = shoot.withColumnRenamed(\"2-alpha code\", \"2_alpha_code\") \n",
    "shoot = shoot.withColumnRenamed(\"Currency Unit\", \"Currency_Unit\") \n",
    "shoot = shoot.withColumnRenamed(\"Special Notes\", \"Special_Notes\") \n",
    "shoot = shoot.withColumnRenamed(\"Income Group\", \"Income_Group\") \n",
    "shoot = shoot.withColumnRenamed(\"WB-2 code\", \"WB_2_code\") \n",
    "shoot = shoot.withColumnRenamed(\"National accounts base year\", \"Nacional_accounts_base_year\") \n",
    "shoot = shoot.withColumnRenamed(\"National accounts reference year\", \"Nacional_accounts_reference_year\") \n",
    "shoot = shoot.withColumnRenamed(\"SNA price valuation\", \"SNA_price_valuation\") \n",
    "shoot = shoot.withColumnRenamed(\"Lending category\", \"Lending_category\") \n",
    "shoot = shoot.withColumnRenamed(\"Other groups\", \"Other_groups\") \n",
    "shoot = shoot.withColumnRenamed(\"System of National Accounts\", \"System_of_National_Accounts\") \n",
    "shoot = shoot.withColumnRenamed(\"Balance of Payments Manual in use\", \"Balance_of_Payments_Manual_in_use\") \n",
    "shoot = shoot.withColumnRenamed(\"External debt Reporting status\", \"External_debt_Reporting_status\") \n",
    "shoot = shoot.withColumnRenamed(\"System of trade\", \"System_of_trade\") \n",
    "shoot = shoot.withColumnRenamed(\"Government Accounting concept\", \"Government_Accounting_concept\") \n",
    "shoot = shoot.withColumnRenamed(\"IMF data dissemination standard\", \"IMF_data_dissemination_standard\") \n",
    "shoot = shoot.withColumnRenamed(\"Latest population census\", \"Latest_population_census\") \n",
    "shoot = shoot.withColumnRenamed(\"Latest household survey\", \"Latest_household_survey\") \n",
    "shoot = shoot.withColumnRenamed(\"Source of most recent Income and expenditure data\", \"Source_of_most_recent_Income_and_expenditure_data\") \n",
    "shoot = shoot.withColumnRenamed(\"Vital registration complete\", \"Vital_registration_complete\") \n",
    "shoot = shoot.withColumnRenamed(\"Latest agricultural census\", \"Latest_agricultural_census\") \n",
    "shoot = shoot.withColumnRenamed(\"Latest industrial data\", \"Latest_industrial_census\") \n",
    "shoot = shoot.withColumnRenamed(\"Latest trade data\", \"Latest_trade_data\")"
   ]
  },
  {
   "cell_type": "code",
   "execution_count": 33,
   "id": "b43ac98f-2899-44b0-8f58-90eb1a2fc92e",
   "metadata": {},
   "outputs": [
    {
     "name": "stdout",
     "output_type": "stream",
     "text": [
      "root\n",
      " |-- Country_Code: string (nullable = true)\n",
      " |-- Short_Name: string (nullable = true)\n",
      " |-- Table_Name: string (nullable = true)\n",
      " |-- Long_name: string (nullable = true)\n",
      " |-- 2_alpha_code: string (nullable = true)\n",
      " |-- Currency_Unit: string (nullable = true)\n",
      " |-- Special_Notes: string (nullable = true)\n",
      " |-- Region: string (nullable = true)\n",
      " |-- Income_Group: string (nullable = true)\n",
      " |-- WB_2_code: string (nullable = true)\n",
      " |-- Nacional_accounts_base_year: string (nullable = true)\n",
      " |-- Nacional_accounts_reference_year: string (nullable = true)\n",
      " |-- SNA_price_valuation: string (nullable = true)\n",
      " |-- Lending_category: string (nullable = true)\n",
      " |-- Other_groups: string (nullable = true)\n",
      " |-- System_of_National_Accounts: string (nullable = true)\n",
      " |-- Balance_of_Payments_Manual_in_use: string (nullable = true)\n",
      " |-- External_debt_Reporting_status: string (nullable = true)\n",
      " |-- System_of_trade: string (nullable = true)\n",
      " |-- Government_Accounting_concept: string (nullable = true)\n",
      " |-- IMF_data_dissemination_standard: string (nullable = true)\n",
      " |-- Latest_population_census: string (nullable = true)\n",
      " |-- Latest_household_survey: string (nullable = true)\n",
      " |-- Source_of_most_recent_Income_and_expenditure_data: string (nullable = true)\n",
      " |-- Vital_registration_complete: string (nullable = true)\n",
      " |-- Latest_agricultural_census: string (nullable = true)\n",
      " |-- Latest_industrial_census: string (nullable = true)\n",
      " |-- Latest_trade_data: string (nullable = true)\n",
      "\n",
      "+------------+--------------------+--------------------+--------------------+------------+--------------------+--------------------+--------------------+-------------------+---------+---------------------------+--------------------------------+--------------------+----------------+------------+---------------------------+---------------------------------+------------------------------+--------------------+-----------------------------+-------------------------------+------------------------+-----------------------+-------------------------------------------------+---------------------------+--------------------------+------------------------+-----------------+\n",
      "|Country_Code|          Short_Name|          Table_Name|           Long_name|2_alpha_code|       Currency_Unit|       Special_Notes|              Region|       Income_Group|WB_2_code|Nacional_accounts_base_year|Nacional_accounts_reference_year| SNA_price_valuation|Lending_category|Other_groups|System_of_National_Accounts|Balance_of_Payments_Manual_in_use|External_debt_Reporting_status|     System_of_trade|Government_Accounting_concept|IMF_data_dissemination_standard|Latest_population_census|Latest_household_survey|Source_of_most_recent_Income_and_expenditure_data|Vital_registration_complete|Latest_agricultural_census|Latest_industrial_census|Latest_trade_data|\n",
      "+------------+--------------------+--------------------+--------------------+------------+--------------------+--------------------+--------------------+-------------------+---------+---------------------------+--------------------------------+--------------------+----------------+------------+---------------------------+---------------------------------+------------------------------+--------------------+-----------------------------+-------------------------------+------------------------+-----------------------+-------------------------------------------------+---------------------------+--------------------------+------------------------+-----------------+\n",
      "|         ABW|               Aruba|               Aruba|               Aruba|          AW|       Aruban florin|             Unknown|Latin America & C...|        High income|       AW|                       2013|                         Unknown|Value added at ba...|         Unknown|     Unknown|       Country uses the ...|                             BPM6|                       Unknown|General trade system|                      Unknown|           Enhanced General ...|         2020 (expected)|                Unknown|                                          Unknown|                        Yes|                   Unknown|                 Unknown|             2018|\n",
      "|         AFE|Africa Eastern an...|Africa Eastern an...|Africa Eastern an...|          ZH|             Unknown|26 countries, str...|             Unknown|            Unknown|       ZH|                    Unknown|                         Unknown|             Unknown|         Unknown|     Unknown|                    Unknown|                          Unknown|                       Unknown|             Unknown|                      Unknown|                        Unknown|                 Unknown|                Unknown|                                          Unknown|                    Unknown|                   Unknown|                 Unknown|          Unknown|\n",
      "|         AFG|         Afghanistan|         Afghanistan|Islamic State of ...|          AF|      Afghan afghani|The reporting per...|          South Asia|         Low income|       AF|                       2016|                         Unknown|Value added at ba...|             IDA|        HIPC|       Country uses the ...|                             BPM6|                      Estimate|General trade system|         Consolidated cent...|           Enhanced General ...|                    1979|   Demographic and H...|                             Integrated househ...|                    Unknown|                   Unknown|                 Unknown|             2018|\n",
      "|         AFW|Africa Western an...|Africa Western an...|Africa Western an...|          ZI|             Unknown|22 countries, str...|             Unknown|            Unknown|       ZI|                    Unknown|                         Unknown|             Unknown|         Unknown|     Unknown|                    Unknown|                          Unknown|                       Unknown|             Unknown|                      Unknown|                        Unknown|                 Unknown|                Unknown|                                          Unknown|                    Unknown|                   Unknown|                 Unknown|          Unknown|\n",
      "|         AGO|              Angola|              Angola|People's Republic...|          AO|      Angolan kwanza|The World Bank sy...|  Sub-Saharan Africa|Lower middle income|       AO|                       2002|                         Unknown|Value added at ba...|            IBRD|     Unknown|       Country uses the ...|                             BPM6|                        Actual|General trade system|         Budgetary central...|           Enhanced General ...|                    2014|   Demographic and H...|                             Integrated househ...|                    Unknown|                   Unknown|                 Unknown|             2018|\n",
      "|         ALB|             Albania|             Albania| Republic of Albania|          AL|        Albanian lek|             Unknown|Europe & Central ...|Upper middle income|       AL|       Original chained ...|                            2010|Value added at ba...|            IBRD|     Unknown|       Country uses the ...|                             BPM6|                        Actual|Special trade system|         Consolidated cent...|           Enhanced General ...|         2020 (expected)|   Demographic and H...|                             Living Standards ...|                        Yes|                      2012|                    2013|             2018|\n",
      "|         AND|             Andorra|             Andorra|Principality of A...|          AD|                Euro|             Unknown|Europe & Central ...|        High income|       AD|                       2010|                         Unknown|Value added at ba...|         Unknown|     Unknown|       Country uses the ...|                          Unknown|                       Unknown|General trade system|                      Unknown|                        Unknown|    2011. Population ...|                Unknown|                                          Unknown|                        Yes|                   Unknown|                 Unknown|             2018|\n",
      "|         ARB|          Arab World|          Arab World|          Arab World|          1A|             Unknown|Arab World aggreg...|             Unknown|            Unknown|       1A|                    Unknown|                         Unknown|             Unknown|         Unknown|     Unknown|                    Unknown|                          Unknown|                       Unknown|             Unknown|                      Unknown|                        Unknown|                 Unknown|                Unknown|                                          Unknown|                    Unknown|                   Unknown|                 Unknown|          Unknown|\n",
      "|         ARE|United Arab Emirates|United Arab Emirates|United Arab Emirates|          AE|       U.A.E. dirham|             Unknown|Middle East & Nor...|        High income|       AE|                       2010|                         Unknown|Value added at pr...|         Unknown|     Unknown|       Country uses the ...|                          Unknown|                       Unknown|Special trade system|         Consolidated cent...|           Enhanced General ...|         2020 (expected)|   World Health Surv...|                                          Unknown|                        Yes|                      2012|                    1985|             2018|\n",
      "|         ARG|           Argentina|           Argentina|  Argentine Republic|          AR|      Argentine peso|The World Bank sy...|Latin America & C...|Upper middle income|       AR|                       2004|                         Unknown|Value added at ba...|            IBRD|     Unknown|       Country uses the ...|                             BPM6|                        Actual|Special trade system|         Consolidated cent...|           Special Data Diss...|         2020 (expected)|   Multiple Indicato...|                             Integrated househ...|                        Yes|                      2008|                    2002|             2018|\n",
      "|         ARM|             Armenia|             Armenia| Republic of Armenia|          AM|       Armenian dram|             Unknown|Europe & Central ...|Upper middle income|       AM|       Original chained ...|                            2012|Value added at ba...|            IBRD|     Unknown|       Country uses the ...|                             BPM6|                        Actual|General trade system|         Consolidated cent...|           Special Data Diss...|         2020 (expected)|   Demographic and H...|                             Integrated househ...|                        Yes|                      2014|                 Unknown|             2018|\n",
      "|         ASM|      American Samoa|      American Samoa|      American Samoa|          AS|         U.S. dollar|             Unknown| East Asia & Pacific|        High income|       AS|       Original chained ...|                            2012|Value added at ba...|         Unknown|     Unknown|       Country uses the ...|                          Unknown|                       Unknown|             Unknown|                      Unknown|                        Unknown|         2020 (expected)|                Unknown|                                          Unknown|                        Yes|                      2008|                 Unknown|          Unknown|\n",
      "|         ATG| Antigua and Barbuda| Antigua and Barbuda| Antigua and Barbuda|          AG|East Caribbean do...|             Unknown|Latin America & C...|        High income|       AG|                       2006|                         Unknown|Value added at ba...|            IBRD|     Unknown|       Country uses the ...|                             BPM6|                       Unknown|General trade system|         Budgetary central...|           Enhanced General ...|                    2011|                Unknown|                                          Unknown|                        Yes|                      2007|                 Unknown|             2018|\n",
      "|         AUS|           Australia|           Australia|Commonwealth of A...|          AU|   Australian dollar|The reporting per...| East Asia & Pacific|        High income|       AU|       Original chained ...|                            2021|Value added at ba...|         Unknown|     Unknown|       Country uses the ...|                             BPM6|                       Unknown|General trade system|         Consolidated cent...|           Special Data Diss...|                    2016|                Unknown|                             Expenditure surve...|                        Yes|                 2015-2016|                    2013|             2018|\n",
      "|         AUT|             Austria|             Austria| Republic of Austria|          AT|                Euro|A simple multipli...|Europe & Central ...|        High income|       AT|       Original chained ...|                            2015|Value added at ba...|         Unknown|   Euro area|       Country uses the ...|                             BPM6|                       Unknown|Special trade system|         Consolidated cent...|           Special Data Diss...|    2011. Population ...|                Unknown|                             Income survey (IS...|                        Yes|                      2010|                    2014|             2018|\n",
      "|         AZE|          Azerbaijan|          Azerbaijan|Republic of Azerb...|          AZ|     New Azeri manat|             Unknown|Europe & Central ...|Upper middle income|       AZ|       Original chained ...|                            2005|Value added at ba...|            IBRD|     Unknown|       Country uses the ...|                             BPM6|                        Actual|General trade system|         Consolidated cent...|           Enhanced General ...|                    2019|   Demographic and H...|                             Living Standards ...|                        Yes|                      2015|                    2013|             2018|\n",
      "|         BDI|             Burundi|             Burundi| Republic of Burundi|          BI|       Burundi franc|The World Bank sy...|  Sub-Saharan Africa|         Low income|       BI|                       2005|                         Unknown|Value added at ba...|             IDA|        HIPC|       Country uses the ...|                             BPM6|                        Actual|General trade system|         Budgetary central...|           Enhanced General ...|                    2008|   Demographic and H...|                             Core Welfare Indi...|                    Unknown|                   Unknown|                    2012|             2018|\n",
      "|         BEL|             Belgium|             Belgium|  Kingdom of Belgium|          BE|                Euro|A simple multipli...|Europe & Central ...|        High income|       BE|       Original chained ...|                            2015|Value added at ba...|         Unknown|   Euro area|       Country uses the ...|                             BPM6|                       Unknown|Special trade system|         Consolidated cent...|           Special Data Diss...|    2011. Population ...|                Unknown|                             Income survey (IS...|                        Yes|                      2010|                    2014|             2018|\n",
      "|         BEN|               Benin|               Benin|   Republic of Benin|          BJ|West African CFA ...|             Unknown|  Sub-Saharan Africa|Lower middle income|       BJ|                       2015|                         Unknown|Value added at ba...|             IDA|        HIPC|       Country uses the ...|                             BPM6|                        Actual|General trade system|         Budgetary central...|           Enhanced General ...|                    2013|   Demographic and H...|                             Core Welfare Indi...|                    Unknown|                   Unknown|                    1981|             2018|\n",
      "|         BFA|        Burkina Faso|        Burkina Faso|        Burkina Faso|          BF|West African CFA ...|             Unknown|  Sub-Saharan Africa|         Low income|       BF|                       2015|                         Unknown|Value added at ba...|             IDA|        HIPC|       Country uses the ...|                             BPM6|                        Actual|General trade system|         Budgetary central...|           Enhanced General ...|                    2019|   Malaria Indicator...|                             Core Welfare Indi...|                    Unknown|                 2006-2010|                    1983|             2018|\n",
      "+------------+--------------------+--------------------+--------------------+------------+--------------------+--------------------+--------------------+-------------------+---------+---------------------------+--------------------------------+--------------------+----------------+------------+---------------------------+---------------------------------+------------------------------+--------------------+-----------------------------+-------------------------------+------------------------+-----------------------+-------------------------------------------------+---------------------------+--------------------------+------------------------+-----------------+\n",
      "only showing top 20 rows\n",
      "\n"
     ]
    }
   ],
   "source": [
    "shoot.printSchema()\n",
    "shoot.show()"
   ]
  },
  {
   "cell_type": "code",
   "execution_count": 34,
   "id": "88606e68-d828-449b-ab0f-138a0d843945",
   "metadata": {},
   "outputs": [],
   "source": [
    "#Definir a estrutura do datagrama\n",
    "customSchema = StructType([\n",
    "    StructField(\"Country_Code\", StringType(), True),\n",
    "    StructField(\"Short_Name\", StringType(), True),\n",
    "    StructField(\"Table_Name\", StringType(), True),\n",
    "    StructField(\"Long_name\", StringType(), True),\n",
    "    StructField(\"2-alpha_code\", StringType(), True),\n",
    "    StructField(\"Currency_Unit\", StringType(), True),\n",
    "    StructField(\"Special_Notes\", StringType(), True),\n",
    "    StructField(\"Region\", StringType(), True),\n",
    "    StructField(\"Income_Group\", StringType(), True),\n",
    "    StructField(\"WB-2_code\", StringType(), True),\n",
    "    StructField(\"Nacional_accounts_base_year\", StringType(), True),\n",
    "    StructField(\"Nacional_accounts_reference_year\", StringType(), True),\n",
    "    StructField(\"SNA_price_valuation\", StringType(), True),\n",
    "    StructField(\"Lending_category\", StringType(), True),\n",
    "    StructField(\"Other_groups\", StringType(), True),\n",
    "    StructField(\"System_of_National_Accounts\", StringType(), True),\n",
    "    StructField(\"Balance_of_Payments_Manual_in_use\", StringType(), True),\n",
    "    StructField(\"External_debt_Reporting_status\", StringType(), True),\n",
    "    StructField(\"System_of_trade\", StringType(), True),\n",
    "    StructField(\"Government_Accounting_concept\", StringType(), True),\n",
    "    StructField(\"IMF_data_dissemination_standard\", StringType(), True),\n",
    "    StructField(\"Latest_population_census\", StringType(), True),\n",
    "    StructField(\"Latest_household_survey\", StringType(), True),\n",
    "    StructField(\"Source_of_most_recent_Income_and_expenditure_data\", StringType(), True),\n",
    "    StructField(\"Vital_registration_complete\", StringType(), True),\n",
    "    StructField(\"Latest_agricultural_census\", StringType(), True),\n",
    "    StructField(\"Latest_industrial_census\", StringType(), True),\n",
    "    StructField(\"Latest_trade_data\", StringType(), True)\n",
    "])\n",
    "\n",
    "#Escrever os dados no formato delta\n",
    "shoot \\\n",
    "    .write \\\n",
    "    .format(\"delta\") \\\n",
    "    .mode(\"overwrite\") \\\n",
    "    .option(\"overwriteSchema\", \"true\") \\\n",
    "    .save(\"hdfs://hdfs-nn:9000/warehouse/projeto.db/Stats_Country\")\n"
   ]
  },
  {
   "cell_type": "code",
   "execution_count": 35,
   "id": "e9286aa8-3a75-4c16-a3a1-c6a9ec71ac5c",
   "metadata": {},
   "outputs": [
    {
     "name": "stdout",
     "output_type": "stream",
     "text": [
      "+------------+--------------------+--------------------+--------------------+------------+--------------------+--------------------+--------------------+-------------------+---------+---------------------------+--------------------------------+--------------------+----------------+------------+---------------------------+---------------------------------+------------------------------+--------------------+-----------------------------+-------------------------------+------------------------+-----------------------+-------------------------------------------------+---------------------------+--------------------------+------------------------+-----------------+\n",
      "|Country_Code|          Short_Name|          Table_Name|           Long_name|2_alpha_code|       Currency_Unit|       Special_Notes|              Region|       Income_Group|WB_2_code|Nacional_accounts_base_year|Nacional_accounts_reference_year| SNA_price_valuation|Lending_category|Other_groups|System_of_National_Accounts|Balance_of_Payments_Manual_in_use|External_debt_Reporting_status|     System_of_trade|Government_Accounting_concept|IMF_data_dissemination_standard|Latest_population_census|Latest_household_survey|Source_of_most_recent_Income_and_expenditure_data|Vital_registration_complete|Latest_agricultural_census|Latest_industrial_census|Latest_trade_data|\n",
      "+------------+--------------------+--------------------+--------------------+------------+--------------------+--------------------+--------------------+-------------------+---------+---------------------------+--------------------------------+--------------------+----------------+------------+---------------------------+---------------------------------+------------------------------+--------------------+-----------------------------+-------------------------------+------------------------+-----------------------+-------------------------------------------------+---------------------------+--------------------------+------------------------+-----------------+\n",
      "|         ABW|               Aruba|               Aruba|               Aruba|          AW|       Aruban florin|             Unknown|Latin America & C...|        High income|       AW|                       2013|                         Unknown|Value added at ba...|         Unknown|     Unknown|       Country uses the ...|                             BPM6|                       Unknown|General trade system|                      Unknown|           Enhanced General ...|         2020 (expected)|                Unknown|                                          Unknown|                        Yes|                   Unknown|                 Unknown|             2018|\n",
      "|         AFE|Africa Eastern an...|Africa Eastern an...|Africa Eastern an...|          ZH|             Unknown|26 countries, str...|             Unknown|            Unknown|       ZH|                    Unknown|                         Unknown|             Unknown|         Unknown|     Unknown|                    Unknown|                          Unknown|                       Unknown|             Unknown|                      Unknown|                        Unknown|                 Unknown|                Unknown|                                          Unknown|                    Unknown|                   Unknown|                 Unknown|          Unknown|\n",
      "|         AFG|         Afghanistan|         Afghanistan|Islamic State of ...|          AF|      Afghan afghani|The reporting per...|          South Asia|         Low income|       AF|                       2016|                         Unknown|Value added at ba...|             IDA|        HIPC|       Country uses the ...|                             BPM6|                      Estimate|General trade system|         Consolidated cent...|           Enhanced General ...|                    1979|   Demographic and H...|                             Integrated househ...|                    Unknown|                   Unknown|                 Unknown|             2018|\n",
      "|         AFW|Africa Western an...|Africa Western an...|Africa Western an...|          ZI|             Unknown|22 countries, str...|             Unknown|            Unknown|       ZI|                    Unknown|                         Unknown|             Unknown|         Unknown|     Unknown|                    Unknown|                          Unknown|                       Unknown|             Unknown|                      Unknown|                        Unknown|                 Unknown|                Unknown|                                          Unknown|                    Unknown|                   Unknown|                 Unknown|          Unknown|\n",
      "|         AGO|              Angola|              Angola|People's Republic...|          AO|      Angolan kwanza|The World Bank sy...|  Sub-Saharan Africa|Lower middle income|       AO|                       2002|                         Unknown|Value added at ba...|            IBRD|     Unknown|       Country uses the ...|                             BPM6|                        Actual|General trade system|         Budgetary central...|           Enhanced General ...|                    2014|   Demographic and H...|                             Integrated househ...|                    Unknown|                   Unknown|                 Unknown|             2018|\n",
      "|         ALB|             Albania|             Albania| Republic of Albania|          AL|        Albanian lek|             Unknown|Europe & Central ...|Upper middle income|       AL|       Original chained ...|                            2010|Value added at ba...|            IBRD|     Unknown|       Country uses the ...|                             BPM6|                        Actual|Special trade system|         Consolidated cent...|           Enhanced General ...|         2020 (expected)|   Demographic and H...|                             Living Standards ...|                        Yes|                      2012|                    2013|             2018|\n",
      "|         AND|             Andorra|             Andorra|Principality of A...|          AD|                Euro|             Unknown|Europe & Central ...|        High income|       AD|                       2010|                         Unknown|Value added at ba...|         Unknown|     Unknown|       Country uses the ...|                          Unknown|                       Unknown|General trade system|                      Unknown|                        Unknown|    2011. Population ...|                Unknown|                                          Unknown|                        Yes|                   Unknown|                 Unknown|             2018|\n",
      "|         ARB|          Arab World|          Arab World|          Arab World|          1A|             Unknown|Arab World aggreg...|             Unknown|            Unknown|       1A|                    Unknown|                         Unknown|             Unknown|         Unknown|     Unknown|                    Unknown|                          Unknown|                       Unknown|             Unknown|                      Unknown|                        Unknown|                 Unknown|                Unknown|                                          Unknown|                    Unknown|                   Unknown|                 Unknown|          Unknown|\n",
      "|         ARE|United Arab Emirates|United Arab Emirates|United Arab Emirates|          AE|       U.A.E. dirham|             Unknown|Middle East & Nor...|        High income|       AE|                       2010|                         Unknown|Value added at pr...|         Unknown|     Unknown|       Country uses the ...|                          Unknown|                       Unknown|Special trade system|         Consolidated cent...|           Enhanced General ...|         2020 (expected)|   World Health Surv...|                                          Unknown|                        Yes|                      2012|                    1985|             2018|\n",
      "|         ARG|           Argentina|           Argentina|  Argentine Republic|          AR|      Argentine peso|The World Bank sy...|Latin America & C...|Upper middle income|       AR|                       2004|                         Unknown|Value added at ba...|            IBRD|     Unknown|       Country uses the ...|                             BPM6|                        Actual|Special trade system|         Consolidated cent...|           Special Data Diss...|         2020 (expected)|   Multiple Indicato...|                             Integrated househ...|                        Yes|                      2008|                    2002|             2018|\n",
      "|         ARM|             Armenia|             Armenia| Republic of Armenia|          AM|       Armenian dram|             Unknown|Europe & Central ...|Upper middle income|       AM|       Original chained ...|                            2012|Value added at ba...|            IBRD|     Unknown|       Country uses the ...|                             BPM6|                        Actual|General trade system|         Consolidated cent...|           Special Data Diss...|         2020 (expected)|   Demographic and H...|                             Integrated househ...|                        Yes|                      2014|                 Unknown|             2018|\n",
      "|         ASM|      American Samoa|      American Samoa|      American Samoa|          AS|         U.S. dollar|             Unknown| East Asia & Pacific|        High income|       AS|       Original chained ...|                            2012|Value added at ba...|         Unknown|     Unknown|       Country uses the ...|                          Unknown|                       Unknown|             Unknown|                      Unknown|                        Unknown|         2020 (expected)|                Unknown|                                          Unknown|                        Yes|                      2008|                 Unknown|          Unknown|\n",
      "|         ATG| Antigua and Barbuda| Antigua and Barbuda| Antigua and Barbuda|          AG|East Caribbean do...|             Unknown|Latin America & C...|        High income|       AG|                       2006|                         Unknown|Value added at ba...|            IBRD|     Unknown|       Country uses the ...|                             BPM6|                       Unknown|General trade system|         Budgetary central...|           Enhanced General ...|                    2011|                Unknown|                                          Unknown|                        Yes|                      2007|                 Unknown|             2018|\n",
      "|         AUS|           Australia|           Australia|Commonwealth of A...|          AU|   Australian dollar|The reporting per...| East Asia & Pacific|        High income|       AU|       Original chained ...|                            2021|Value added at ba...|         Unknown|     Unknown|       Country uses the ...|                             BPM6|                       Unknown|General trade system|         Consolidated cent...|           Special Data Diss...|                    2016|                Unknown|                             Expenditure surve...|                        Yes|                 2015-2016|                    2013|             2018|\n",
      "|         AUT|             Austria|             Austria| Republic of Austria|          AT|                Euro|A simple multipli...|Europe & Central ...|        High income|       AT|       Original chained ...|                            2015|Value added at ba...|         Unknown|   Euro area|       Country uses the ...|                             BPM6|                       Unknown|Special trade system|         Consolidated cent...|           Special Data Diss...|    2011. Population ...|                Unknown|                             Income survey (IS...|                        Yes|                      2010|                    2014|             2018|\n",
      "|         AZE|          Azerbaijan|          Azerbaijan|Republic of Azerb...|          AZ|     New Azeri manat|             Unknown|Europe & Central ...|Upper middle income|       AZ|       Original chained ...|                            2005|Value added at ba...|            IBRD|     Unknown|       Country uses the ...|                             BPM6|                        Actual|General trade system|         Consolidated cent...|           Enhanced General ...|                    2019|   Demographic and H...|                             Living Standards ...|                        Yes|                      2015|                    2013|             2018|\n",
      "|         BDI|             Burundi|             Burundi| Republic of Burundi|          BI|       Burundi franc|The World Bank sy...|  Sub-Saharan Africa|         Low income|       BI|                       2005|                         Unknown|Value added at ba...|             IDA|        HIPC|       Country uses the ...|                             BPM6|                        Actual|General trade system|         Budgetary central...|           Enhanced General ...|                    2008|   Demographic and H...|                             Core Welfare Indi...|                    Unknown|                   Unknown|                    2012|             2018|\n",
      "|         BEL|             Belgium|             Belgium|  Kingdom of Belgium|          BE|                Euro|A simple multipli...|Europe & Central ...|        High income|       BE|       Original chained ...|                            2015|Value added at ba...|         Unknown|   Euro area|       Country uses the ...|                             BPM6|                       Unknown|Special trade system|         Consolidated cent...|           Special Data Diss...|    2011. Population ...|                Unknown|                             Income survey (IS...|                        Yes|                      2010|                    2014|             2018|\n",
      "|         BEN|               Benin|               Benin|   Republic of Benin|          BJ|West African CFA ...|             Unknown|  Sub-Saharan Africa|Lower middle income|       BJ|                       2015|                         Unknown|Value added at ba...|             IDA|        HIPC|       Country uses the ...|                             BPM6|                        Actual|General trade system|         Budgetary central...|           Enhanced General ...|                    2013|   Demographic and H...|                             Core Welfare Indi...|                    Unknown|                   Unknown|                    1981|             2018|\n",
      "|         BFA|        Burkina Faso|        Burkina Faso|        Burkina Faso|          BF|West African CFA ...|             Unknown|  Sub-Saharan Africa|         Low income|       BF|                       2015|                         Unknown|Value added at ba...|             IDA|        HIPC|       Country uses the ...|                             BPM6|                        Actual|General trade system|         Budgetary central...|           Enhanced General ...|                    2019|   Malaria Indicator...|                             Core Welfare Indi...|                    Unknown|                 2006-2010|                    1983|             2018|\n",
      "+------------+--------------------+--------------------+--------------------+------------+--------------------+--------------------+--------------------+-------------------+---------+---------------------------+--------------------------------+--------------------+----------------+------------+---------------------------+---------------------------------+------------------------------+--------------------+-----------------------------+-------------------------------+------------------------+-----------------------+-------------------------------------------------+---------------------------+--------------------------+------------------------+-----------------+\n",
      "only showing top 20 rows\n",
      "\n"
     ]
    }
   ],
   "source": [
    "#Executa uma consulta sql para exibir todos os dados da tabela\n",
    "spark.sql(\n",
    "    \"\"\"\n",
    "    SELECT * FROM projeto.Stats_Country\n",
    "    \"\"\"\n",
    ").show()"
   ]
  }
 ],
 "metadata": {
  "kernelspec": {
   "display_name": "Python 3 (ipykernel)",
   "language": "python",
   "name": "python3"
  },
  "language_info": {
   "codemirror_mode": {
    "name": "ipython",
    "version": 3
   },
   "file_extension": ".py",
   "mimetype": "text/x-python",
   "name": "python",
   "nbconvert_exporter": "python",
   "pygments_lexer": "ipython3",
   "version": "3.11.5"
  }
 },
 "nbformat": 4,
 "nbformat_minor": 5
}
