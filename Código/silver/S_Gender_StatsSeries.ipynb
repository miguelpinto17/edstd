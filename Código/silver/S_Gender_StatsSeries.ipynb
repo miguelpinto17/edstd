{
 "cells": [
  {
   "cell_type": "code",
   "execution_count": 1,
   "id": "993f7f16-3227-4dd5-8536-7fa4818b597a",
   "metadata": {},
   "outputs": [],
   "source": [
    "from pyspark.sql import SparkSession\n",
    "from pyspark.sql import Row\n",
    "from delta import *\n",
    "from pyspark.sql.functions import col, when\n",
    "from pyspark.sql.types import StructType, StructField, StringType, IntegerType\n",
    "\n",
    "# warehouse_location points to the default location for managed databases and tables\n",
    "warehouse_location = 'hdfs://hdfs-nn:9000/warehouse'\n",
    "\n",
    "builder = SparkSession \\\n",
    "    .builder \\\n",
    "    .master(\"local[2]\") \\\n",
    "    .appName(\"Python Spark DataFrames and SQL\") \\\n",
    "    .config(\"spark.sql.warehouse.dir\", warehouse_location) \\\n",
    "    .config(\"hive.metastore.uris\", \"thrift://hive-metastore:9083\") \\\n",
    "    .config(\"spark.sql.extensions\", \"io.delta.sql.DeltaSparkSessionExtension\") \\\n",
    "    .config(\"spark.sql.catalog.spark_catalog\", \"org.apache.spark.sql.delta.catalog.DeltaCatalog\") \\\n",
    "    .config(\"spark.jars.packages\", \"io.delta:delta-core_2.12:2.4.0\") \\\n",
    "    .enableHiveSupport() \\\n",
    "\n",
    "spark = builder.getOrCreate() #spark = configure_spark_with_delta_pip(builder).getOrCreate()"
   ]
  },
  {
   "cell_type": "code",
   "execution_count": 2,
   "id": "5e28dd6a-9fe7-439a-9ff0-adb7695aa41b",
   "metadata": {},
   "outputs": [],
   "source": [
    "hdfs_path = \"hdfs://hdfs-nn:9000/projeto/bronze/Stats_Series.csv\""
   ]
  },
  {
   "cell_type": "code",
   "execution_count": 3,
   "id": "944283f5-8aa3-470a-8d9e-f9d45476cec5",
   "metadata": {},
   "outputs": [
    {
     "name": "stdout",
     "output_type": "stream",
     "text": [
      "root\n",
      " |-- Series_code: string (nullable = true)\n",
      " |-- Topic: string (nullable = true)\n",
      " |-- Indicator_Name: string (nullable = true)\n",
      " |-- Short_definition: string (nullable = true)\n",
      " |-- Long_definition: string (nullable = false)\n",
      " |-- Unit_of_measure: string (nullable = false)\n",
      " |-- Periodicity: string (nullable = false)\n",
      "\n",
      "+-------------+------+--------------------+--------------------+--------------------+--------------------+--------------------+\n",
      "|  Series_code| Topic|      Indicator_Name|    Short_definition|     Long_definition|     Unit_of_measure|         Periodicity|\n",
      "+-------------+------+--------------------+--------------------+--------------------+--------------------+--------------------+\n",
      "|  account.t.d|Assets| Account (% age 15+)|\"The percentage o...|\"The percentage o...|             Percent|           Triennial|\n",
      "|account.t.d.1|Assets|Account, female (...|\"The percentage o...| female (% age 15+)\"|\"The percentage o...| female (% age 15+)\"|\n",
      "|account.t.d.2|Assets|Account, male (% ...|\"The percentage o...|   male (% age 15+)\"|\"The percentage o...|   male (% age 15+)\"|\n",
      "|   borrow.any|Assets|Borrowed any mone...|The percentage of...|The percentage of...|             Percent|           Triennial|\n",
      "| borrow.any.1|Assets|Borrowed any mone...|The percentage of...|The percentage of...|             Percent|           Triennial|\n",
      "| borrow.any.2|Assets|Borrowed any mone...|The percentage of...|The percentage of...|             Percent|           Triennial|\n",
      "|      fin1.1a|Assets|First financial i...|The percentage of...|The percentage of...|             Percent|           Triennial|\n",
      "|     fin1.1ab|Assets|First financial i...|The percentage of...|The percentage of...|             Percent|           Triennial|\n",
      "|      fin1.1b|Assets|First financial i...|The percentage of...|The percentage of...|             Percent|           Triennial|\n",
      "|     fin1.t.d|Assets|Financial institu...|The percentage of...|The percentage of...|             Percent|           Triennial|\n",
      "|   fin1.t.d.1|Assets|Financial institu...|The percentage of...|The percentage of...|             Percent|           Triennial|\n",
      "|   fin1.t.d.2|Assets|Financial institu...|The percentage of...|The percentage of...|             Percent|           Triennial|\n",
      "|     fin10.1a|Assets|Reason for not us...|The percentage of...|The percentage of...|             Percent|           Triennial|\n",
      "|   fin10.1a.s|Assets|Reason for not us...|Among respondents...|Among respondents...|             Percent|           Triennial|\n",
      "|     fin10.1b|Assets|Reason for not us...|The percentage of...|The percentage of...|             Percent|           Triennial|\n",
      "|   fin10.1b.s|Assets|Reason for not us...|Among respondents...|Among respondents...|             Percent|           Triennial|\n",
      "|     fin10.1c|Assets|Reason for not us...|The percentage of...|The percentage of...|             Percent|           Triennial|\n",
      "|   fin10.1c.s|Assets|Reason for not us...|Among respondents...|Among respondents...|             Percent|           Triennial|\n",
      "|     fin10.1d|Assets|Reason for not us...|The percentage of...|The percentage of...|             Percent|           Triennial|\n",
      "|   fin10.1d.s|Assets|Reason for not us...|Among respondents...|Among respondents...|             Percent|           Triennial|\n",
      "+-------------+------+--------------------+--------------------+--------------------+--------------------+--------------------+\n",
      "only showing top 20 rows\n",
      "\n"
     ]
    }
   ],
   "source": [
    "shoot = spark.read.option(\"header\", True) \\\n",
    "                  .option(\"multiline\", True) \\\n",
    "                  .csv(hdfs_path)\n",
    "\n",
    "shoot = shoot.drop(col(\"Base period\"))\n",
    "shoot = shoot.drop(col(\"Other Notes\"))\n",
    "shoot = shoot.drop(col(\"Aggregation method\"))\n",
    "shoot = shoot.drop(col(\"Limitations and exceptions\"))\n",
    "shoot = shoot.drop(col(\"Notes from original source\"))\n",
    "shoot = shoot.drop(col(\"General comments\"))\n",
    "shoot = shoot.drop(col(\"Source\"))\n",
    "shoot = shoot.drop(col(\"Statistical concept and methodology\"))\n",
    "shoot = shoot.drop(col(\"Development relevance\"))\n",
    "shoot = shoot.drop(col(\"Related source links\"))\n",
    "shoot = shoot.drop(col(\"Other web links\"))\n",
    "shoot = shoot.drop(col(\"Related indicators\"))\n",
    "shoot = shoot.drop(col(\"License Type\"))\n",
    "shoot = shoot.drop(col(\"_c20\"))\n",
    "\n",
    "shoot = shoot.withColumnRenamed(\"Series code\", \"Series_code\")\n",
    "shoot = shoot.withColumnRenamed(\"Indicator Name\", \"Indicator_Name\")\n",
    "shoot = shoot.withColumnRenamed(\"Short definition\", \"Short_definition\")\n",
    "shoot = shoot.withColumnRenamed(\"Long definition\", \"Long_definition\")\n",
    "shoot = shoot.withColumnRenamed(\"Unit of measure\", \"Unit_of_measure\")\n",
    "\n",
    "relevant_columns = [\"Long_definition\", \"Unit_of_measure\", \"Periodicity\"]\n",
    "for col_name in relevant_columns:\n",
    "    shoot = shoot.na.fill(\"\", subset=col_name)\n",
    "\n",
    "customSchema = StructType([\n",
    "    StructField(\"Series_code\", StringType(), True),\n",
    "    StructField(\"Topic\", StringType(), True),\n",
    "    StructField(\"Indicator_Name\", StringType(), True), \n",
    "    StructField(\"Short_definition\", StringType(), True),\n",
    "    StructField(\"Long_definition\", StringType(), True),\n",
    "    StructField(\"Unit_of_measure\", StringType(), True),\n",
    "    StructField(\"Periodicity\", StringType(), True),\n",
    "])\n",
    "\n",
    "shoot.printSchema()\n",
    "shoot.show()\n",
    "shoot.toPandas() \n",
    "\n",
    "shoot \\\n",
    "    .write \\\n",
    "    .format(\"delta\") \\\n",
    "    .mode(\"overwrite\") \\\n",
    "    .save(\"hdfs://hdfs-nn:9000/warehouse/projeto.db/Stats_Series\")"
   ]
  },
  {
   "cell_type": "code",
   "execution_count": 4,
   "id": "9bd36f34-de58-4ad7-823f-c7cd9062cce2",
   "metadata": {},
   "outputs": [
    {
     "name": "stdout",
     "output_type": "stream",
     "text": [
      "+-------------+------+--------------------+--------------------+--------------------+--------------------+--------------------+\n",
      "|  Series_code| Topic|      Indicator_Name|    Short_definition|     Long_definition|     Unit_of_measure|         Periodicity|\n",
      "+-------------+------+--------------------+--------------------+--------------------+--------------------+--------------------+\n",
      "|  account.t.d|Assets| Account (% age 15+)|\"The percentage o...|\"The percentage o...|             Percent|           Triennial|\n",
      "|account.t.d.1|Assets|Account, female (...|\"The percentage o...| female (% age 15+)\"|\"The percentage o...| female (% age 15+)\"|\n",
      "|account.t.d.2|Assets|Account, male (% ...|\"The percentage o...|   male (% age 15+)\"|\"The percentage o...|   male (% age 15+)\"|\n",
      "|   borrow.any|Assets|Borrowed any mone...|The percentage of...|The percentage of...|             Percent|           Triennial|\n",
      "| borrow.any.1|Assets|Borrowed any mone...|The percentage of...|The percentage of...|             Percent|           Triennial|\n",
      "| borrow.any.2|Assets|Borrowed any mone...|The percentage of...|The percentage of...|             Percent|           Triennial|\n",
      "|      fin1.1a|Assets|First financial i...|The percentage of...|The percentage of...|             Percent|           Triennial|\n",
      "|     fin1.1ab|Assets|First financial i...|The percentage of...|The percentage of...|             Percent|           Triennial|\n",
      "|      fin1.1b|Assets|First financial i...|The percentage of...|The percentage of...|             Percent|           Triennial|\n",
      "|     fin1.t.d|Assets|Financial institu...|The percentage of...|The percentage of...|             Percent|           Triennial|\n",
      "|   fin1.t.d.1|Assets|Financial institu...|The percentage of...|The percentage of...|             Percent|           Triennial|\n",
      "|   fin1.t.d.2|Assets|Financial institu...|The percentage of...|The percentage of...|             Percent|           Triennial|\n",
      "|     fin10.1a|Assets|Reason for not us...|The percentage of...|The percentage of...|             Percent|           Triennial|\n",
      "|   fin10.1a.s|Assets|Reason for not us...|Among respondents...|Among respondents...|             Percent|           Triennial|\n",
      "|     fin10.1b|Assets|Reason for not us...|The percentage of...|The percentage of...|             Percent|           Triennial|\n",
      "|   fin10.1b.s|Assets|Reason for not us...|Among respondents...|Among respondents...|             Percent|           Triennial|\n",
      "|     fin10.1c|Assets|Reason for not us...|The percentage of...|The percentage of...|             Percent|           Triennial|\n",
      "|   fin10.1c.s|Assets|Reason for not us...|Among respondents...|Among respondents...|             Percent|           Triennial|\n",
      "|     fin10.1d|Assets|Reason for not us...|The percentage of...|The percentage of...|             Percent|           Triennial|\n",
      "|   fin10.1d.s|Assets|Reason for not us...|Among respondents...|Among respondents...|             Percent|           Triennial|\n",
      "+-------------+------+--------------------+--------------------+--------------------+--------------------+--------------------+\n",
      "only showing top 20 rows\n",
      "\n"
     ]
    }
   ],
   "source": [
    "spark.sql(\n",
    "    \"\"\"\n",
    "    SELECT * FROM projeto.Stats_Series\n",
    "    \"\"\"\n",
    ").show()"
   ]
  },
  {
   "cell_type": "code",
   "execution_count": null,
   "id": "321ce40d-833f-429b-8498-a59de9197314",
   "metadata": {},
   "outputs": [],
   "source": []
  }
 ],
 "metadata": {
  "kernelspec": {
   "display_name": "Python 3 (ipykernel)",
   "language": "python",
   "name": "python3"
  },
  "language_info": {
   "codemirror_mode": {
    "name": "ipython",
    "version": 3
   },
   "file_extension": ".py",
   "mimetype": "text/x-python",
   "name": "python",
   "nbconvert_exporter": "python",
   "pygments_lexer": "ipython3",
   "version": "3.11.5"
  }
 },
 "nbformat": 4,
 "nbformat_minor": 5
}
