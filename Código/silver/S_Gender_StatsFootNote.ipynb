{
 "cells": [
  {
   "cell_type": "code",
   "execution_count": 1,
   "id": "c1fb9fb7-cb4d-4b2f-913c-d61284d6edb6",
   "metadata": {},
   "outputs": [],
   "source": [
    "from pyspark.sql import SparkSession\n",
    "from pyspark.sql import Row\n",
    "from delta import *\n",
    "from pyspark.sql.functions import expr, round, col\n",
    "from pyspark.sql.types import DoubleType, StringType, StructField, StructType, IntegerType\n",
    "\n",
    "# warehouse_location points to the default location for managed databases and tables\n",
    "warehouse_location = 'hdfs://hdfs-nn:9000/warehouse'\n",
    "\n",
    "builder = SparkSession \\\n",
    "    .builder \\\n",
    "    .master(\"local[2]\") \\\n",
    "    .appName(\"Python Spark DataFrames and SQL\") \\\n",
    "    .config(\"spark.sql.warehouse.dir\", warehouse_location) \\\n",
    "    .config(\"hive.metastore.uris\", \"thrift://hive-metastore:9083\") \\\n",
    "    .config(\"spark.sql.extensions\", \"io.delta.sql.DeltaSparkSessionExtension\") \\\n",
    "    .config(\"spark.sql.catalog.spark_catalog\", \"org.apache.spark.sql.delta.catalog.DeltaCatalog\") \\\n",
    "    .config(\"spark.jars.packages\", \"io.delta:delta-core_2.12:2.4.0\") \\\n",
    "    .enableHiveSupport() \\\n",
    "\n",
    "spark = builder.getOrCreate() #spark = configure_spark_with_delta_pip(builder).getOrCreate()"
   ]
  },
  {
   "cell_type": "code",
   "execution_count": 2,
   "id": "a3b62f0d-7f37-4bfd-8c35-038d7d4dc673",
   "metadata": {},
   "outputs": [],
   "source": [
    "hdfs_path = \"hdfs://hdfs-nn:9000/projeto/bronze/FootNote.csv\""
   ]
  },
  {
   "cell_type": "code",
   "execution_count": 3,
   "id": "bbc7e862-4fca-4413-a666-a7fd5d4902a3",
   "metadata": {},
   "outputs": [
    {
     "name": "stdout",
     "output_type": "stream",
     "text": [
      "root\n",
      " |-- CountryCode: string (nullable = true)\n",
      " |-- SeriesCode: string (nullable = true)\n",
      " |-- Year: integer (nullable = true)\n",
      " |-- DESCRIPTION: string (nullable = true)\n",
      "\n",
      "+-----------+--------------------+----+--------------------+\n",
      "|CountryCode|          SeriesCode|Year|         DESCRIPTION|\n",
      "+-----------+--------------------+----+--------------------+\n",
      "|        ABW|         SE.SCH.LIFE|2006|      UIS Estimation|\n",
      "|        ABW|         SE.PRM.TENR|2006|        UIS estimate|\n",
      "|        ABW|         SE.PRM.TENR|2014|        UIS estimate|\n",
      "|        ABW|   SE.PRM.NINT.FE.ZS|2005|        UIS estimate|\n",
      "|        ABW|      SH.STA.BRTC.ZS|2002|Health situation ...|\n",
      "|        ABW|      SE.SCH.LIFE.MA|2006|      UIS Estimation|\n",
      "|        ABW|   SE.ADT.LITR.MA.ZS|2020|      UIS Estimation|\n",
      "|        ABW|   SE.PRM.NINT.MA.ZS|2005|        UIS estimate|\n",
      "|        ABW|   SE.ADT.LITR.FE.ZS|2020|      UIS Estimation|\n",
      "|        ABW|   SE.TER.CMPL.FE.ZS|2002|      UIS Estimation|\n",
      "|        ABW|   SE.TER.CMPL.FE.ZS|2000|      UIS Estimation|\n",
      "|        ABW|   SE.TER.CMPL.MA.ZS|2002|      UIS Estimation|\n",
      "|        ABW|   SE.TER.CMPL.MA.ZS|2000|      UIS Estimation|\n",
      "|        ABW|      SE.SCH.LIFE.FE|2006|      UIS Estimation|\n",
      "|        ABW|         SE.PRM.UNER|2006|      UIS Estimation|\n",
      "|        ABW|         SE.PRM.UNER|2014|      UIS Estimation|\n",
      "|        ABW|   SE.ADT.1524.LT.ZS|2020|      UIS Estimation|\n",
      "|        ABW|SE.ADT.1524.LT.MA.ZS|2020|      UIS Estimation|\n",
      "|        ABW|      SE.ADT.LITR.ZS|2020|      UIS Estimation|\n",
      "|        ABW|SE.ADT.1524.LT.FE.ZS|2020|      UIS Estimation|\n",
      "+-----------+--------------------+----+--------------------+\n",
      "only showing top 20 rows\n",
      "\n"
     ]
    }
   ],
   "source": [
    "\n",
    "\n",
    "# Read without header\n",
    "shoot = spark.read.option(\"header\", True) \\\n",
    "    .csv(hdfs_path)\n",
    "\n",
    "shoot = shoot.drop(col(\"_c4\")) #Delete Null col\n",
    "shoot = shoot.withColumn(\"Year\", expr(\"substring(Year, 3, length(Year))\")) #Delete the first and secound chars from the Year String (YR)\n",
    "shoot = shoot.withColumn(\"Year\", col(\"Year\").cast(\"int\")) #Make the col Year type Integer \n",
    "\n",
    "shoot.printSchema()\n",
    "shoot.show()\n",
    "\n",
    "customSchema = StructType([\n",
    "    StructField(\"CountryCode\", StringType(), True),        \n",
    "    StructField(\"SeriesCode\", StringType(), True),\n",
    "    StructField(\"Year\", IntegerType(), True),\n",
    "    StructField(\"DESCRIPTION\", StringType(), True)\n",
    "])\n",
    "\n",
    "shoot \\\n",
    "    .write \\\n",
    "    .format(\"delta\") \\\n",
    "    .mode(\"overwrite\") \\\n",
    "    .save(\"hdfs://hdfs-nn:9000/warehouse/projeto.db/FootNote\")"
   ]
  },
  {
   "cell_type": "code",
   "execution_count": 4,
   "id": "c96c3821-5fe0-4a0b-b20e-a1c3c65a73c5",
   "metadata": {},
   "outputs": [
    {
     "name": "stdout",
     "output_type": "stream",
     "text": [
      "+-----------+-----------+----+--------------------+\n",
      "|CountryCode| SeriesCode|Year|         DESCRIPTION|\n",
      "+-----------+-----------+----+--------------------+\n",
      "|        LUX|SH.MMR.RISK|2011|Uncertainty bound...|\n",
      "|        LUX|SH.MMR.RISK|2010|Uncertainty bound...|\n",
      "|        LUX|SH.MMR.RISK|2009|Uncertainty bound...|\n",
      "|        LUX|SH.MMR.RISK|2008|Uncertainty bound...|\n",
      "|        LUX|SH.MMR.RISK|2007|Uncertainty bound...|\n",
      "|        LUX|SH.MMR.RISK|2006|Uncertainty bound...|\n",
      "|        LUX|SH.MMR.RISK|2005|Uncertainty bound...|\n",
      "|        LUX|SH.MMR.RISK|2004|Uncertainty bound...|\n",
      "|        LUX|SH.MMR.RISK|2003|Uncertainty bound...|\n",
      "|        LUX|SH.MMR.RISK|2002|Uncertainty bound...|\n",
      "|        LUX|SH.MMR.RISK|2001|Uncertainty bound...|\n",
      "|        LUX|SH.MMR.RISK|2000|Uncertainty bound...|\n",
      "|        LUX|SH.DYN.MORT|2021|Uncertainty bound...|\n",
      "|        LUX|SH.DYN.MORT|2020|Uncertainty bound...|\n",
      "|        LUX|SH.DYN.MORT|2019|Uncertainty bound...|\n",
      "|        LUX|SH.DYN.MORT|2018|Uncertainty bound...|\n",
      "|        LUX|SH.DYN.MORT|2017|Uncertainty bound...|\n",
      "|        LUX|SH.DYN.MORT|2016|Uncertainty bound...|\n",
      "|        LUX|SH.DYN.MORT|2015|Uncertainty bound...|\n",
      "|        LUX|SH.DYN.MORT|2014|Uncertainty bound...|\n",
      "+-----------+-----------+----+--------------------+\n",
      "only showing top 20 rows\n",
      "\n"
     ]
    }
   ],
   "source": [
    "spark.sql(\n",
    "    \"\"\"\n",
    "    SELECT * FROM projeto.FootNote\n",
    "    \"\"\"\n",
    ").show()"
   ]
  }
 ],
 "metadata": {
  "kernelspec": {
   "display_name": "Python 3 (ipykernel)",
   "language": "python",
   "name": "python3"
  },
  "language_info": {
   "codemirror_mode": {
    "name": "ipython",
    "version": 3
   },
   "file_extension": ".py",
   "mimetype": "text/x-python",
   "name": "python",
   "nbconvert_exporter": "python",
   "pygments_lexer": "ipython3",
   "version": "3.11.5"
  }
 },
 "nbformat": 4,
 "nbformat_minor": 5
}
