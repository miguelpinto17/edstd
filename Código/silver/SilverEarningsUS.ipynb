{
 "cells": [
  {
   "cell_type": "code",
   "execution_count": 1,
   "id": "34208a18-cec5-4d3e-9a15-06a70702a872",
   "metadata": {},
   "outputs": [],
   "source": [
    "from pyspark.sql import SparkSession\n",
    "from pyspark.sql import Row\n",
    "from delta import *\n",
    "from pyspark.sql.functions import expr, round, col\n",
    "from pyspark.sql.types import DoubleType, StringType, StructField, StructType, IntegerType\n",
    "\n",
    "warehouse_location = 'hdfs://hdfs-nn:9000/warehouse'\n",
    "\n",
    "builder = SparkSession \\\n",
    "    .builder \\\n",
    "    .master(\"local[2]\") \\\n",
    "    .appName(\"Python Spark DataFrames and SQL\") \\\n",
    "    .config(\"spark.sql.warehouse.dir\", warehouse_location) \\\n",
    "    .config(\"hive.metastore.uris\", \"thrift://hive-metastore:9083\") \\\n",
    "    .config(\"spark.sql.extensions\", \"io.delta.sql.DeltaSparkSessionExtension\") \\\n",
    "    .config(\"spark.sql.catalog.spark_catalog\", \"org.apache.spark.sql.delta.catalog.DeltaCatalog\") \\\n",
    "    .config(\"spark.jars.packages\", \"io.delta:delta-core_2.12:2.4.0\") \\\n",
    "    .enableHiveSupport() \\\n",
    "\n",
    "spark = builder.getOrCreate() #spark = configure_spark_with_delta_pip(builder).getOrCreate()"
   ]
  },
  {
   "cell_type": "code",
   "execution_count": 2,
   "id": "459b7df1-b2de-4f8f-bd31-c819a509d84f",
   "metadata": {},
   "outputs": [],
   "source": [
    "hdfs_path = \"hdfs://hdfs-nn:9000/projeto/bronze/EarningsUS.csv\""
   ]
  },
  {
   "cell_type": "code",
   "execution_count": 3,
   "id": "6b1c64b6-563d-420e-88c8-b9f3dbc8d4ab",
   "metadata": {},
   "outputs": [],
   "source": [
    "earnings = spark.read.option(\"header\", True) \\\n",
    ".csv(hdfs_path)"
   ]
  },
  {
   "cell_type": "code",
   "execution_count": 4,
   "id": "69fbd841-0a84-40b0-9a9e-be4c08f5dca8",
   "metadata": {},
   "outputs": [
    {
     "name": "stdout",
     "output_type": "stream",
     "text": [
      "root\n",
      " |-- State: string (nullable = true)\n",
      " |-- Male: string (nullable = true)\n",
      " |-- Female: string (nullable = true)\n",
      "\n",
      "+--------------------+-----+------+\n",
      "|               State| Male|Female|\n",
      "+--------------------+-----+------+\n",
      "|             Alabama|50019| 37281|\n",
      "|              Alaska|61173| 50853|\n",
      "|             Arizona|50069| 41617|\n",
      "|            Arkansas|45014| 35541|\n",
      "|          California|57475| 50313|\n",
      "|            Colorado|60574| 48381|\n",
      "|         Connecticut|66959| 55743|\n",
      "|            Delaware|57200| 47227|\n",
      "|District of Columbia|88992| 72960|\n",
      "|             Florida|45187| 37482|\n",
      "|             Georgia|50547| 40548|\n",
      "|              Hawaii|53353| 46331|\n",
      "|               Idaho|49116| 37784|\n",
      "|            Illinois|59074| 46077|\n",
      "|             Indiana|51448| 38988|\n",
      "|                Iowa|52146| 40739|\n",
      "|              Kansas|51687| 40941|\n",
      "|            Kentucky|49345| 38774|\n",
      "|           Louisiana|51976| 37050|\n",
      "|               Maine|51143| 40906|\n",
      "+--------------------+-----+------+\n",
      "only showing top 20 rows\n",
      "\n"
     ]
    }
   ],
   "source": [
    "earnings.printSchema()\n",
    "earnings.show()"
   ]
  },
  {
   "cell_type": "code",
   "execution_count": 5,
   "id": "b674f1bc-a935-4f1b-8991-0e50bdef7076",
   "metadata": {},
   "outputs": [],
   "source": [
    "customSchema = StructType([\n",
    "    StructField(\"State\", StringType(), True),        \n",
    "    StructField(\"Male\", DoubleType(), True),\n",
    "    StructField(\"Female\", DoubleType(), True)\n",
    "])\n",
    "\n",
    "earnings \\\n",
    "    .write \\\n",
    "    .format(\"delta\") \\\n",
    "    .mode(\"overwrite\") \\\n",
    "    .option(\"overwriteSchema\", \"true\") \\\n",
    "    .save(\"hdfs://hdfs-nn:9000/warehouse/projeto.db/EarningsUS\")\n",
    "\n"
   ]
  },
  {
   "cell_type": "code",
   "execution_count": 6,
   "id": "2d64a2a8-cd20-466e-a35a-39c5c39e1b88",
   "metadata": {},
   "outputs": [
    {
     "name": "stdout",
     "output_type": "stream",
     "text": [
      "+--------------------+-----+------+\n",
      "|               State| Male|Female|\n",
      "+--------------------+-----+------+\n",
      "|             Alabama|50019| 37281|\n",
      "|              Alaska|61173| 50853|\n",
      "|             Arizona|50069| 41617|\n",
      "|            Arkansas|45014| 35541|\n",
      "|          California|57475| 50313|\n",
      "|            Colorado|60574| 48381|\n",
      "|         Connecticut|66959| 55743|\n",
      "|            Delaware|57200| 47227|\n",
      "|District of Columbia|88992| 72960|\n",
      "|             Florida|45187| 37482|\n",
      "|             Georgia|50547| 40548|\n",
      "|              Hawaii|53353| 46331|\n",
      "|               Idaho|49116| 37784|\n",
      "|            Illinois|59074| 46077|\n",
      "|             Indiana|51448| 38988|\n",
      "|                Iowa|52146| 40739|\n",
      "|              Kansas|51687| 40941|\n",
      "|            Kentucky|49345| 38774|\n",
      "|           Louisiana|51976| 37050|\n",
      "|               Maine|51143| 40906|\n",
      "+--------------------+-----+------+\n",
      "only showing top 20 rows\n",
      "\n"
     ]
    }
   ],
   "source": [
    "spark.sql(\n",
    "    \"\"\"\n",
    "    SELECT * FROM projeto.EarningsUS\n",
    "    \"\"\"\n",
    ").show()"
   ]
  },
  {
   "cell_type": "code",
   "execution_count": null,
   "id": "b94bd6b1-c483-4061-8772-8d456480c933",
   "metadata": {},
   "outputs": [],
   "source": []
  }
 ],
 "metadata": {
  "kernelspec": {
   "display_name": "Python 3 (ipykernel)",
   "language": "python",
   "name": "python3"
  },
  "language_info": {
   "codemirror_mode": {
    "name": "ipython",
    "version": 3
   },
   "file_extension": ".py",
   "mimetype": "text/x-python",
   "name": "python",
   "nbconvert_exporter": "python",
   "pygments_lexer": "ipython3",
   "version": "3.11.5"
  }
 },
 "nbformat": 4,
 "nbformat_minor": 5
}
