{
 "cells": [
  {
   "cell_type": "code",
   "execution_count": 1,
   "id": "af36ff31-698a-47b2-ba8b-0364a8c81df4",
   "metadata": {},
   "outputs": [],
   "source": [
    "from pyspark.sql import SparkSession\n",
    "from pyspark.sql import Row\n",
    "from delta import *\n",
    "from pyspark.sql.functions import col\n",
    "from pyspark.sql.types import DoubleType, StringType, StructField, StructType, IntegerType\n",
    "\n",
    "# warehouse_location points to the default location for managed databases and tables\n",
    "warehouse_location = 'hdfs://hdfs-nn:9000/warehouse'\n",
    "\n",
    "builder = SparkSession \\\n",
    "    .builder \\\n",
    "    .master(\"local[2]\") \\\n",
    "    .appName(\"Python Spark DataFrames and SQL\") \\\n",
    "    .config(\"spark.sql.warehouse.dir\", warehouse_location) \\\n",
    "    .config(\"hive.metastore.uris\", \"thrift://hive-metastore:9083\") \\\n",
    "    .config(\"spark.sql.extensions\", \"io.delta.sql.DeltaSparkSessionExtension\") \\\n",
    "    .config(\"spark.sql.catalog.spark_catalog\", \"org.apache.spark.sql.delta.catalog.DeltaCatalog\") \\\n",
    "    .config(\"spark.jars.packages\", \"io.delta:delta-core_2.12:2.4.0\") \\\n",
    "    .enableHiveSupport() \\\n",
    "\n",
    "spark = builder.getOrCreate() #spark = configure_spark_with_delta_pip(builder).getOrCreate()"
   ]
  },
  {
   "cell_type": "code",
   "execution_count": 2,
   "id": "869f12d5-3281-43bc-a360-a28d83121654",
   "metadata": {},
   "outputs": [],
   "source": [
    "hdfs_path = \"hdfs://hdfs-nn:9000/projeto/bronze/Country_Series.csv\""
   ]
  },
  {
   "cell_type": "code",
   "execution_count": 3,
   "id": "da1f8ffb-2c1f-49f7-91ab-958f12a2f31b",
   "metadata": {},
   "outputs": [
    {
     "name": "stdout",
     "output_type": "stream",
     "text": [
      "root\n",
      " |-- CountryCode: string (nullable = true)\n",
      " |-- SeriesCode: string (nullable = true)\n",
      " |-- DESCRIPTION: string (nullable = true)\n",
      "\n",
      "+-----------+-----------------+--------------------+\n",
      "|CountryCode|       SeriesCode|         DESCRIPTION|\n",
      "+-----------+-----------------+--------------------+\n",
      "|        ABW|   SP.DYN.LE00.IN|Data source: Unit...|\n",
      "|        ABW|      SP.POP.TOTL|Data source: Unit...|\n",
      "|        ABW|   SP.DYN.CDRT.IN|Data source: Unit...|\n",
      "|        ABW|SG.POP.MIGR.FE.ZS|Estimates were de...|\n",
      "|        ABW|SP.DYN.LE00.MA.IN|Data source: Unit...|\n",
      "|        ABW|   SP.DYN.AMRT.MA|Data source: Unit...|\n",
      "|        ABW|   SP.DYN.TFRT.IN|Data source: Unit...|\n",
      "|        ABW|   SP.DYN.CBRT.IN|Data source: Unit...|\n",
      "|        ABW|   SP.DYN.AMRT.FE|Data source: Unit...|\n",
      "|        ABW|SP.DYN.LE00.FE.IN|Data source: Unit...|\n",
      "|        AFG|   SP.DYN.LE00.IN|Data source: Unit...|\n",
      "|        AFG|   SP.DYN.AMRT.MA|Data source: Unit...|\n",
      "|        AFG|      SP.POP.TOTL|Data source: Unit...|\n",
      "|        AFG|SG.POP.MIGR.FE.ZS|Estimates were de...|\n",
      "|        AFG|SP.DYN.LE00.MA.IN|Data source: Unit...|\n",
      "|        AFG|   SP.DYN.CBRT.IN|Data source: Unit...|\n",
      "|        AFG|   SP.DYN.TFRT.IN|Data source: Unit...|\n",
      "|        AFG|NY.GNP.PCAP.PP.CD|Estimates are bas...|\n",
      "|        AFG|   SP.DYN.AMRT.FE|Data source: Unit...|\n",
      "|        AFG|   SP.DYN.CDRT.IN|Data source: Unit...|\n",
      "+-----------+-----------------+--------------------+\n",
      "only showing top 20 rows\n",
      "\n"
     ]
    }
   ],
   "source": [
    "\n",
    "\n",
    "# Read without header\n",
    "shoot = spark.read.option(\"header\", True) \\\n",
    "    .csv(hdfs_path)\n",
    "\n",
    "shoot = shoot.drop(col(\"_c3\")) #Delete Null col\n",
    "\n",
    "shoot.printSchema()\n",
    "shoot.show()\n",
    "\n",
    "customSchema = StructType([\n",
    "    StructField(\"CountryCode\", StringType(), True),        \n",
    "    StructField(\"SeriesCode\", StringType(), True),\n",
    "    StructField(\"DESCRIPTION\", StringType(), True)\n",
    "])\n",
    "\n",
    "\n",
    "shoot \\\n",
    "    .write \\\n",
    "    .format(\"delta\") \\\n",
    "    .mode(\"overwrite\") \\\n",
    "    .save(\"hdfs://hdfs-nn:9000/warehouse/projeto.db/Country_Series\")"
   ]
  },
  {
   "cell_type": "code",
   "execution_count": 4,
   "id": "4e530b64-1b5c-467f-8035-230bf050a0f4",
   "metadata": {},
   "outputs": [
    {
     "name": "stdout",
     "output_type": "stream",
     "text": [
      "+-----------+-----------------+--------------------+\n",
      "|CountryCode|       SeriesCode|         DESCRIPTION|\n",
      "+-----------+-----------------+--------------------+\n",
      "|        ABW|   SP.DYN.LE00.IN|Data source: Unit...|\n",
      "|        ABW|      SP.POP.TOTL|Data source: Unit...|\n",
      "|        ABW|   SP.DYN.CDRT.IN|Data source: Unit...|\n",
      "|        ABW|SG.POP.MIGR.FE.ZS|Estimates were de...|\n",
      "|        ABW|SP.DYN.LE00.MA.IN|Data source: Unit...|\n",
      "|        ABW|   SP.DYN.AMRT.MA|Data source: Unit...|\n",
      "|        ABW|   SP.DYN.TFRT.IN|Data source: Unit...|\n",
      "|        ABW|   SP.DYN.CBRT.IN|Data source: Unit...|\n",
      "|        ABW|   SP.DYN.AMRT.FE|Data source: Unit...|\n",
      "|        ABW|SP.DYN.LE00.FE.IN|Data source: Unit...|\n",
      "|        AFG|   SP.DYN.LE00.IN|Data source: Unit...|\n",
      "|        AFG|   SP.DYN.AMRT.MA|Data source: Unit...|\n",
      "|        AFG|      SP.POP.TOTL|Data source: Unit...|\n",
      "|        AFG|SG.POP.MIGR.FE.ZS|Estimates were de...|\n",
      "|        AFG|SP.DYN.LE00.MA.IN|Data source: Unit...|\n",
      "|        AFG|   SP.DYN.CBRT.IN|Data source: Unit...|\n",
      "|        AFG|   SP.DYN.TFRT.IN|Data source: Unit...|\n",
      "|        AFG|NY.GNP.PCAP.PP.CD|Estimates are bas...|\n",
      "|        AFG|   SP.DYN.AMRT.FE|Data source: Unit...|\n",
      "|        AFG|   SP.DYN.CDRT.IN|Data source: Unit...|\n",
      "+-----------+-----------------+--------------------+\n",
      "only showing top 20 rows\n",
      "\n"
     ]
    }
   ],
   "source": [
    "spark.sql(\"\"\"\n",
    "    SELECT * FROM projeto.Country_Series\n",
    "\"\"\").show()\n"
   ]
  },
  {
   "cell_type": "code",
   "execution_count": null,
   "id": "ab728962-78e9-4064-9d83-883b1e014a5a",
   "metadata": {},
   "outputs": [],
   "source": []
  }
 ],
 "metadata": {
  "kernelspec": {
   "display_name": "Python 3 (ipykernel)",
   "language": "python",
   "name": "python3"
  },
  "language_info": {
   "codemirror_mode": {
    "name": "ipython",
    "version": 3
   },
   "file_extension": ".py",
   "mimetype": "text/x-python",
   "name": "python",
   "nbconvert_exporter": "python",
   "pygments_lexer": "ipython3",
   "version": "3.11.5"
  }
 },
 "nbformat": 4,
 "nbformat_minor": 5
}
