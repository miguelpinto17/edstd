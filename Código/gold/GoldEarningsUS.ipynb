{
 "cells": [
  {
   "cell_type": "code",
   "execution_count": 1,
   "id": "d923fb66-0f08-4d43-9eb8-0035cf329d5b",
   "metadata": {},
   "outputs": [],
   "source": [
    "from pyspark.sql import SparkSession\n",
    "from pyspark.sql import Row\n",
    "from delta import *\n",
    "from pyspark.sql.functions import expr, round, col, avg, format_number  \n",
    "from pyspark.sql.types import DoubleType, StringType, StructField, StructType, IntegerType\n",
    "from pyspark.sql.functions import col, sum, round, lit, concat, when, count, coalesce, upper, udf\n",
    "from pyspark.sql import functions as F\n",
    "\n",
    "warehouse_location = 'heducations://heducations-nn:9000/warehouse'\n",
    "\n",
    "builder = SparkSession \\\n",
    "    .builder \\\n",
    "    .master(\"local[2]\") \\\n",
    "    .appName(\"Python Spark DataFrames and SQL\") \\\n",
    "    .config(\"spark.sql.warehouse.dir\", warehouse_location) \\\n",
    "    .config(\"hive.metastore.uris\", \"thrift://hive-metastore:9083\") \\\n",
    "    .config(\"spark.sql.extensions\", \"io.delta.sql.DeltaSparkSessionExtension\") \\\n",
    "    .config(\"spark.sql.catalog.spark_catalog\", \"org.apache.spark.sql.delta.catalog.DeltaCatalog\") \\\n",
    "    .config(\"spark.jars.packages\", \"io.delta:delta-core_2.12:2.4.0\") \\\n",
    "    .enableHiveSupport() \\\n",
    "\n",
    "spark = builder.getOrCreate() #spark = configure_spark_with_delta_pip(builder).getOrCreate()"
   ]
  },
  {
   "cell_type": "code",
   "execution_count": 2,
   "id": "4fe5b7fd-0781-4503-9d0a-17b26a01f506",
   "metadata": {},
   "outputs": [],
   "source": [
    "# read data from the silver tables\n",
    "earnings = spark.table(\"projeto.EarningsUS\")"
   ]
  },
  {
   "cell_type": "code",
   "execution_count": 3,
   "id": "54b9c488-76ad-4bd8-8b69-53c28bd6f5a2",
   "metadata": {},
   "outputs": [],
   "source": [
    "earnings = earnings.withColumn(\"Sum\", col(\"Male\") + col(\"Female\"))\n",
    "earnings = earnings.withColumn(\"Difference\", col(\"Male\") - col(\"Female\"))\n",
    "earnings = earnings.withColumn(\"country\",F.lit(\"United States\"))"
   ]
  },
  {
   "cell_type": "code",
   "execution_count": 4,
   "id": "6851bb99-0097-45d7-9314-ab0ccb860012",
   "metadata": {},
   "outputs": [
    {
     "name": "stdout",
     "output_type": "stream",
     "text": [
      "root\n",
      " |-- State: string (nullable = true)\n",
      " |-- Male: string (nullable = true)\n",
      " |-- Female: string (nullable = true)\n",
      " |-- Sum: double (nullable = true)\n",
      " |-- Difference: double (nullable = true)\n",
      " |-- country: string (nullable = false)\n",
      "\n",
      "+--------------------+-----+------+--------+----------+-------------+\n",
      "|               State| Male|Female|     Sum|Difference|      country|\n",
      "+--------------------+-----+------+--------+----------+-------------+\n",
      "|             Alabama|50019| 37281| 87300.0|   12738.0|United States|\n",
      "|              Alaska|61173| 50853|112026.0|   10320.0|United States|\n",
      "|             Arizona|50069| 41617| 91686.0|    8452.0|United States|\n",
      "|            Arkansas|45014| 35541| 80555.0|    9473.0|United States|\n",
      "|          California|57475| 50313|107788.0|    7162.0|United States|\n",
      "|            Colorado|60574| 48381|108955.0|   12193.0|United States|\n",
      "|         Connecticut|66959| 55743|122702.0|   11216.0|United States|\n",
      "|            Delaware|57200| 47227|104427.0|    9973.0|United States|\n",
      "|District of Columbia|88992| 72960|161952.0|   16032.0|United States|\n",
      "|             Florida|45187| 37482| 82669.0|    7705.0|United States|\n",
      "|             Georgia|50547| 40548| 91095.0|    9999.0|United States|\n",
      "|              Hawaii|53353| 46331| 99684.0|    7022.0|United States|\n",
      "|               Idaho|49116| 37784| 86900.0|   11332.0|United States|\n",
      "|            Illinois|59074| 46077|105151.0|   12997.0|United States|\n",
      "|             Indiana|51448| 38988| 90436.0|   12460.0|United States|\n",
      "|                Iowa|52146| 40739| 92885.0|   11407.0|United States|\n",
      "|              Kansas|51687| 40941| 92628.0|   10746.0|United States|\n",
      "|            Kentucky|49345| 38774| 88119.0|   10571.0|United States|\n",
      "|           Louisiana|51976| 37050| 89026.0|   14926.0|United States|\n",
      "|               Maine|51143| 40906| 92049.0|   10237.0|United States|\n",
      "+--------------------+-----+------+--------+----------+-------------+\n",
      "only showing top 20 rows\n",
      "\n"
     ]
    }
   ],
   "source": [
    "earnings.printSchema()\n",
    "earnings.show()"
   ]
  },
  {
   "cell_type": "code",
   "execution_count": 5,
   "id": "e01c9df2-88ee-46e4-88f6-6b9e17369e91",
   "metadata": {},
   "outputs": [],
   "source": [
    "customSchema = StructType([\n",
    "    StructField(\"State\", StringType(), True),        \n",
    "    StructField(\"Male\", DoubleType(), True),\n",
    "    StructField(\"Female\", DoubleType(), True),\n",
    "    StructField(\"Sum\", DoubleType(), True),\n",
    "    StructField(\"Difference\", DoubleType(), True),\n",
    "    StructField(\"Country\", StringType(), True)\n",
    "])\n",
    "\n",
    "earnings \\\n",
    "    .write \\\n",
    "    .format(\"delta\") \\\n",
    "    .mode(\"overwrite\") \\\n",
    "    .option(\"overwriteSchema\", \"true\") \\\n",
    "    .save(\"hdfs://hdfs-nn:9000/warehouse/projeto_gold.db/EarningsUS\")"
   ]
  },
  {
   "cell_type": "code",
   "execution_count": null,
   "id": "04688599-1b15-48cb-b5c9-fbe2f1137b6f",
   "metadata": {},
   "outputs": [],
   "source": []
  }
 ],
 "metadata": {
  "kernelspec": {
   "display_name": "Python 3 (ipykernel)",
   "language": "python",
   "name": "python3"
  },
  "language_info": {
   "codemirror_mode": {
    "name": "ipython",
    "version": 3
   },
   "file_extension": ".py",
   "mimetype": "text/x-python",
   "name": "python",
   "nbconvert_exporter": "python",
   "pygments_lexer": "ipython3",
   "version": "3.11.5"
  }
 },
 "nbformat": 4,
 "nbformat_minor": 5
}
