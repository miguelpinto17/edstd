{
 "cells": [
  {
   "cell_type": "code",
   "execution_count": 1,
   "id": "2c65e851-0d38-424b-998a-4d2b3112bf32",
   "metadata": {},
   "outputs": [],
   "source": [
    "from pyspark.sql import SparkSession\n",
    "from pyspark.sql import Row\n",
    "from delta import *\n",
    "from pyspark.sql.functions import expr, round, col\n",
    "from pyspark.sql.types import DoubleType, StringType, StructField, StructType, IntegerType\n",
    "from pyspark.sql.functions import col, sum, round, lit, concat, when\n",
    "\n",
    "warehouse_location = 'heducations://heducations-nn:9000/warehouse'\n",
    "\n",
    "builder = SparkSession \\\n",
    "    .builder \\\n",
    "    .master(\"local[2]\") \\\n",
    "    .appName(\"Python Spark DataFrames and SQL\") \\\n",
    "    .config(\"spark.sql.warehouse.dir\", warehouse_location) \\\n",
    "    .config(\"hive.metastore.uris\", \"thrift://hive-metastore:9083\") \\\n",
    "    .config(\"spark.sql.extensions\", \"io.delta.sql.DeltaSparkSessionExtension\") \\\n",
    "    .config(\"spark.sql.catalog.spark_catalog\", \"org.apache.spark.sql.delta.catalog.DeltaCatalog\") \\\n",
    "    .config(\"spark.jars.packages\", \"io.delta:delta-core_2.12:2.4.0\") \\\n",
    "    .enableHiveSupport() \\\n",
    "\n",
    "spark = builder.getOrCreate() #spark = configure_spark_with_delta_pip(builder).getOrCreate()"
   ]
  },
  {
   "cell_type": "code",
   "execution_count": 2,
   "id": "eb913ed0-4f73-414b-8fd8-fd96e569c64b",
   "metadata": {},
   "outputs": [],
   "source": [
    "# create Product dimension\n",
    "\n",
    "# read data from the silver tables\n",
    "education = spark.table(\"projeto.EducationNY\")"
   ]
  },
  {
   "cell_type": "code",
   "execution_count": 3,
   "id": "c8f74722-4cb7-4426-82ea-11e8b73966a9",
   "metadata": {},
   "outputs": [
    {
     "name": "stdout",
     "output_type": "stream",
     "text": [
      "+------+--------------------+----------+--------------+------+--------------+-------------+---------------------+---------------+-----------------------+----------------------+------------------+--------------------------+-------------------------+--------------------+----------------------------+---------------------------+--------+----------------+---------------+----------------+------------------------+-------------+---------------------+---------+\n",
      "|   DBN|          SchoolName|CohortYear|CohortCategory|Gender|TotalCohortNum|TotalGradsNum|TotalGradsPctOfCohort|TotalRegentsNum|TotalRegentsPctOfCohort|TotalRegentsPctOfGrads|AdvancedRegentsNum|AdvancedRegentsPctOfCohort|AdvancedRegentsPctOfGrads|RegentsWoAdvancedNum|RegentsWoAdvancedPctOfCohort|RegentsWoAdvancedPctOfGrads|LocalNum|LocalPctOfCohort|LocalPctOfGrads|StillEnrolledNum|StillEnrolledPctOfCohort|DroppedOutNum|DroppedOutPctOfCohort|  Borough|\n",
      "+------+--------------------+----------+--------------+------+--------------+-------------+---------------------+---------------+-----------------------+----------------------+------------------+--------------------------+-------------------------+--------------------+----------------------------+---------------------------+--------+----------------+---------------+----------------+------------------------+-------------+---------------------+---------+\n",
      "|01M056|     CORLEARS SCHOOL|      null|  4 Year  June|  Male|          null|         null|              Unknown|           null|                Unknown|               Unknown|              null|                   Unknown|                  Unknown|                null|                     Unknown|                    Unknown|    null|         Unknown|        Unknown|            null|                 Unknown|         null|              Unknown|Manhattan|\n",
      "|01M056|     CORLEARS SCHOOL|      null|        5 Year|  Male|          null|         null|              Unknown|           null|                Unknown|               Unknown|              null|                   Unknown|                  Unknown|                null|                     Unknown|                    Unknown|    null|         Unknown|        Unknown|            null|                 Unknown|         null|              Unknown|Manhattan|\n",
      "|01M056|     CORLEARS SCHOOL|      null|        6 Year|  Male|          null|         null|              Unknown|           null|                Unknown|               Unknown|              null|                   Unknown|                  Unknown|                null|                     Unknown|                    Unknown|    null|         Unknown|        Unknown|            null|                 Unknown|         null|              Unknown|Manhattan|\n",
      "|01M056|     CORLEARS SCHOOL|      null|  4 Year  June|  Male|          null|         null|              Unknown|           null|                Unknown|               Unknown|              null|                   Unknown|                  Unknown|                null|                     Unknown|                    Unknown|    null|         Unknown|        Unknown|            null|                 Unknown|         null|              Unknown|Manhattan|\n",
      "|01M056|     CORLEARS SCHOOL|      null|        5 Year|  Male|          null|         null|              Unknown|           null|                Unknown|               Unknown|              null|                   Unknown|                  Unknown|                null|                     Unknown|                    Unknown|    null|         Unknown|        Unknown|            null|                 Unknown|         null|              Unknown|Manhattan|\n",
      "|01M056|     CORLEARS SCHOOL|      null|        6 Year|  Male|          null|         null|              Unknown|           null|                Unknown|               Unknown|              null|                   Unknown|                  Unknown|                null|                     Unknown|                    Unknown|    null|         Unknown|        Unknown|            null|                 Unknown|         null|              Unknown|Manhattan|\n",
      "|01M292|HENRY STREET SCHO...|      null|  4 Year  June|Female|          null|         null|              Unknown|           null|                Unknown|               Unknown|              null|                   Unknown|                  Unknown|                null|                     Unknown|                    Unknown|    null|         Unknown|        Unknown|            null|                 Unknown|         null|              Unknown|Manhattan|\n",
      "|01M292|HENRY STREET SCHO...|      null|        5 Year|Female|          null|         null|              Unknown|           null|                Unknown|               Unknown|              null|                   Unknown|                  Unknown|                null|                     Unknown|                    Unknown|    null|         Unknown|        Unknown|            null|                 Unknown|         null|              Unknown|Manhattan|\n",
      "|01M292|HENRY STREET SCHO...|      null|        6 Year|Female|          null|         null|              Unknown|           null|                Unknown|               Unknown|              null|                   Unknown|                  Unknown|                null|                     Unknown|                    Unknown|    null|         Unknown|        Unknown|            null|                 Unknown|         null|              Unknown|Manhattan|\n",
      "|01M292|HENRY STREET SCHO...|      null|  4 Year  June|Female|          null|         null|               64.30%|           null|                 28.60%|                44.40%|              null|                     0.00%|                    0.00%|                null|                      28.60%|                     44.40%|    null|          35.70%|         55.60%|            null|                  32.10%|         null|                3.60%|Manhattan|\n",
      "|01M292|HENRY STREET SCHO...|      null|        5 Year|Female|          null|         null|               63.30%|           null|                 26.70%|                42.10%|              null|                     0.00%|                    0.00%|                null|                      26.70%|                     42.10%|    null|          36.70%|         57.90%|            null|                   6.70%|         null|               26.70%|Manhattan|\n",
      "|01M292|HENRY STREET SCHO...|      null|        6 Year|Female|          null|         null|               71.40%|           null|                 28.60%|                40.00%|              null|                     0.00%|                    0.00%|                null|                      28.60%|                     40.00%|    null|          42.90%|         60.00%|            null|                   3.60%|         null|               25.00%|Manhattan|\n",
      "|01M292|HENRY STREET SCHO...|      null|  4 Year  June|Female|          null|         null|               80.00%|           null|                 52.00%|                65.00%|              null|                     0.00%|                    0.00%|                null|                      52.00%|                     65.00%|    null|          28.00%|         35.00%|            null|                   0.00%|         null|               20.00%|Manhattan|\n",
      "|01M292|HENRY STREET SCHO...|      null| 4 Year August|Female|          null|         null|               80.00%|           null|                 52.00%|                65.00%|              null|                     0.00%|                    0.00%|                null|                      52.00%|                     65.00%|    null|          28.00%|         35.00%|            null|                   0.00%|         null|               20.00%|Manhattan|\n",
      "|01M292|HENRY STREET SCHO...|      null|        5 Year|Female|          null|         null|               74.10%|           null|                 48.10%|                65.00%|              null|                     0.00%|                    0.00%|                null|                      48.10%|                     65.00%|    null|          25.90%|         35.00%|            null|                   0.00%|         null|               22.20%|Manhattan|\n",
      "|01M292|HENRY STREET SCHO...|      null|        6 Year|Female|          null|         null|               76.90%|           null|                 50.00%|                65.00%|              null|                     0.00%|                    0.00%|                null|                      50.00%|                     65.00%|    null|          26.90%|         35.00%|            null|                   0.00%|         null|               15.40%|Manhattan|\n",
      "|01M292|HENRY STREET SCHO...|      null|  4 Year  June|Female|          null|         null|               50.00%|           null|                 38.20%|                76.50%|              null|                     0.00%|                    0.00%|                null|                      38.20%|                     76.50%|    null|          11.80%|         23.50%|            null|                  23.50%|         null|               14.70%|Manhattan|\n",
      "|01M292|HENRY STREET SCHO...|      null| 4 Year August|Female|          null|         null|               50.00%|           null|                 38.20%|                76.50%|              null|                     0.00%|                    0.00%|                null|                      38.20%|                     76.50%|    null|          11.80%|         23.50%|            null|                  23.50%|         null|               14.70%|Manhattan|\n",
      "|01M292|HENRY STREET SCHO...|      null|  5 Year  June|Female|          null|         null|               58.10%|           null|                 41.90%|                72.20%|              null|                     0.00%|                    0.00%|                null|                      41.90%|                     72.20%|    null|          16.10%|         27.80%|            null|                   0.00%|         null|               25.80%|Manhattan|\n",
      "|01M292|HENRY STREET SCHO...|      null| 5 Year August|Female|          null|         null|               58.10%|           null|                 41.90%|                72.20%|              null|                     0.00%|                    0.00%|                null|                      41.90%|                     72.20%|    null|          16.10%|         27.80%|            null|                   0.00%|         null|               25.80%|Manhattan|\n",
      "+------+--------------------+----------+--------------+------+--------------+-------------+---------------------+---------------+-----------------------+----------------------+------------------+--------------------------+-------------------------+--------------------+----------------------------+---------------------------+--------+----------------+---------------+----------------+------------------------+-------------+---------------------+---------+\n",
      "only showing top 20 rows\n",
      "\n"
     ]
    }
   ],
   "source": [
    "education.show()"
   ]
  },
  {
   "cell_type": "code",
   "execution_count": 4,
   "id": "85a328ea-59a9-48e8-afd0-28d48d1a8a80",
   "metadata": {},
   "outputs": [
    {
     "name": "stdout",
     "output_type": "stream",
     "text": [
      "+-------------+------+--------------------+-----------------------+\n",
      "|      Borough|Gender|Average_Dropout_Rate|Average_Graduation_Rate|\n",
      "+-------------+------+--------------------+-----------------------+\n",
      "|    Manhattan|Female|               11.72|                  74.74|\n",
      "|    Manhattan|  Male|               15.19|                   65.9|\n",
      "|Staten Island|  Male|               11.41|                  73.14|\n",
      "|Staten Island|Female|               10.18|                   76.8|\n",
      "|        Bronx|  Male|               17.89|                  60.91|\n",
      "|        Bronx|Female|               14.83|                  68.24|\n",
      "|     Brooklyn|  Male|               17.22|                  58.72|\n",
      "|     Brooklyn|Female|               13.65|                   68.0|\n",
      "|       Queens|  Male|               15.99|                  66.02|\n",
      "|       Queens|Female|               11.33|                  75.38|\n",
      "+-------------+------+--------------------+-----------------------+\n",
      "\n"
     ]
    }
   ],
   "source": [
    "from pyspark.sql.functions import col\n",
    "\n",
    "boroughs = [\"Manhattan\", \"Staten Island\", \"Bronx\", \"Brooklyn\", \"Queens\"]\n",
    "medias = None\n",
    "\n",
    "for borough in boroughs:\n",
    "    education.filter(education[\"Borough\"] == borough).createOrReplaceTempView(\"temp_view\")\n",
    "\n",
    "    borough_result = spark.sql(\"\"\"\n",
    "        SELECT\n",
    "            Borough,\n",
    "            Gender,\n",
    "            AVG(CAST(SUBSTRING(DroppedOutPctOfCohort, 1, LENGTH(DroppedOutPctOfCohort) - 1) AS FLOAT)) AS Average_Dropout_Rate,  \n",
    "            AVG(CAST(SUBSTRING(TotalGradsPctOfCohort, 1, LENGTH(TotalGradsPctOfCohort) - 1) AS FLOAT)) AS Average_Graduation_Rate\n",
    "        FROM\n",
    "            temp_view\n",
    "        WHERE\n",
    "            DroppedOutPctOfCohort LIKE '%' AND\n",
    "            TotalGradsPctOfCohort LIKE '%'\n",
    "        GROUP BY\n",
    "            Borough, Gender\n",
    "    \"\"\")\n",
    "    \n",
    "    # Cast columns and add '%' symbol\n",
    "    borough_result = borough_result.withColumn(\"Average_Dropout_Rate\", round(col(\"Average_Dropout_Rate\").cast(\"Double\"), 2))\n",
    "    borough_result = borough_result.withColumn(\"Average_Graduation_Rate\", round(col(\"Average_Graduation_Rate\").cast(\"Double\"), 2))\n",
    "\n",
    "    if medias is None:\n",
    "        medias = borough_result\n",
    "    else:\n",
    "        medias = medias.union(borough_result)\n",
    "\n",
    "# Show the result\n",
    "medias.show()"
   ]
  },
  {
   "cell_type": "code",
   "execution_count": 5,
   "id": "c7f8ab4d-c3f3-40c1-bd2e-1e484898d1c4",
   "metadata": {},
   "outputs": [
    {
     "name": "stdout",
     "output_type": "stream",
     "text": [
      "+-------------+---------------------------+------------------------------+-------------------------+----------------------------+\n",
      "|      Borough|Female_Average_Dropout_Rate|Female_Average_Graduation_Rate|Male_Average_Dropout_Rate|Male_Average_Graduation_Rate|\n",
      "+-------------+---------------------------+------------------------------+-------------------------+----------------------------+\n",
      "|       Queens|                      11.33|                         75.38|                    15.99|                       66.02|\n",
      "|     Brooklyn|                      13.65|                          68.0|                    17.22|                       58.72|\n",
      "|Staten Island|                      10.18|                          76.8|                    11.41|                       73.14|\n",
      "|    Manhattan|                      11.72|                         74.74|                    15.19|                        65.9|\n",
      "|        Bronx|                      14.83|                         68.24|                    17.89|                       60.91|\n",
      "+-------------+---------------------------+------------------------------+-------------------------+----------------------------+\n",
      "\n"
     ]
    }
   ],
   "source": [
    "from pyspark.sql.functions import col, round, avg\n",
    "\n",
    "# ... (your previous code remains unchanged)\n",
    "\n",
    "# Pivoting the 'Gender' column\n",
    "pivot_result = medias.groupBy('Borough').pivot('Gender').agg(\n",
    "    round(avg('Average_Dropout_Rate'), 2).alias('Average_Dropout_Rate'),\n",
    "    round(avg('Average_Graduation_Rate'), 2).alias('Average_Graduation_Rate')\n",
    ")\n",
    "\n",
    "pivot_result.show()"
   ]
  },
  {
   "cell_type": "code",
   "execution_count": 6,
   "id": "c08c9f07-8d6d-4076-a853-67a604302089",
   "metadata": {},
   "outputs": [],
   "source": [
    "pivot_result = pivot_result.withColumn(\"State\", lit(\"New York\")).withColumn(\"Country\", lit(\"United States\"))\n"
   ]
  },
  {
   "cell_type": "code",
   "execution_count": 7,
   "id": "5fb28215-8c0e-4d66-9981-a69c1027a3be",
   "metadata": {},
   "outputs": [],
   "source": [
    "pivot_result \\\n",
    "    .write \\\n",
    "    .format(\"delta\") \\\n",
    "    .mode(\"overwrite\") \\\n",
    "    .save(\"hdfs://hdfs-nn:9000/warehouse/projeto_gold.db/EducationNY\")\n",
    "       "
   ]
  },
  {
   "cell_type": "code",
   "execution_count": 8,
   "id": "57767c88-6f36-4a7e-a140-dd6ef6a72e6e",
   "metadata": {},
   "outputs": [
    {
     "name": "stdout",
     "output_type": "stream",
     "text": [
      "+-------------+---------------------------+------------------------------+-------------------------+----------------------------+--------+-------------+\n",
      "|      Borough|Female_Average_Dropout_Rate|Female_Average_Graduation_Rate|Male_Average_Dropout_Rate|Male_Average_Graduation_Rate|   State|      Country|\n",
      "+-------------+---------------------------+------------------------------+-------------------------+----------------------------+--------+-------------+\n",
      "|       Queens|                      11.33|                         75.38|                    15.99|                       66.02|New York|United States|\n",
      "|     Brooklyn|                      13.65|                          68.0|                    17.22|                       58.72|New York|United States|\n",
      "|Staten Island|                      10.18|                          76.8|                    11.41|                       73.14|New York|United States|\n",
      "|    Manhattan|                      11.72|                         74.74|                    15.19|                        65.9|New York|United States|\n",
      "|        Bronx|                      14.83|                         68.24|                    17.89|                       60.91|New York|United States|\n",
      "+-------------+---------------------------+------------------------------+-------------------------+----------------------------+--------+-------------+\n",
      "\n"
     ]
    }
   ],
   "source": [
    "pivot_result.show()"
   ]
  },
  {
   "cell_type": "code",
   "execution_count": null,
   "id": "96c1a16f-cffe-430e-a7a9-74620bda3b0f",
   "metadata": {},
   "outputs": [],
   "source": []
  }
 ],
 "metadata": {
  "kernelspec": {
   "display_name": "Python 3 (ipykernel)",
   "language": "python",
   "name": "python3"
  },
  "language_info": {
   "codemirror_mode": {
    "name": "ipython",
    "version": 3
   },
   "file_extension": ".py",
   "mimetype": "text/x-python",
   "name": "python",
   "nbconvert_exporter": "python",
   "pygments_lexer": "ipython3",
   "version": "3.11.5"
  }
 },
 "nbformat": 4,
 "nbformat_minor": 5
}
