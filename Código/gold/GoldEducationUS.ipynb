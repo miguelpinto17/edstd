{
 "cells": [
  {
   "cell_type": "code",
   "execution_count": 1,
   "id": "969bddd6-710d-4904-8eb0-f65e05d64eb0",
   "metadata": {},
   "outputs": [],
   "source": [
    "from pyspark.sql import SparkSession\n",
    "from pyspark.sql import Row\n",
    "from delta import *\n",
    "from pyspark.sql.functions import expr, round, col, avg, format_number  \n",
    "from pyspark.sql.types import FloatType, StringType, StructField, StructType, IntegerType\n",
    "from pyspark.sql.functions import col, sum, round, lit, concat, when, count, coalesce, upper, udf\n",
    "from pyspark.sql import functions as F\n",
    "\n",
    "warehouse_location = 'heducations://heducations-nn:9000/warehouse'\n",
    "\n",
    "builder = SparkSession \\\n",
    "    .builder \\\n",
    "    .master(\"local[2]\") \\\n",
    "    .appName(\"Python Spark DataFrames and SQL\") \\\n",
    "    .config(\"spark.sql.warehouse.dir\", warehouse_location) \\\n",
    "    .config(\"hive.metastore.uris\", \"thrift://hive-metastore:9083\") \\\n",
    "    .config(\"spark.sql.extensions\", \"io.delta.sql.DeltaSparkSessionExtension\") \\\n",
    "    .config(\"spark.sql.catalog.spark_catalog\", \"org.apache.spark.sql.delta.catalog.DeltaCatalog\") \\\n",
    "    .config(\"spark.jars.packages\", \"io.delta:delta-core_2.12:2.4.0\") \\\n",
    "    .enableHiveSupport() \\\n",
    "\n",
    "spark = builder.getOrCreate() #spark = configure_spark_with_delta_pip(builder).getOrCreate()\n",
    "spark = builder.getOrCreate() #spark = configure_spark_with_delta_pip(builder).getOrCreate()"
   ]
  },
  {
   "cell_type": "code",
   "execution_count": 2,
   "id": "7bfc8cce-f399-4589-9357-824522e23139",
   "metadata": {},
   "outputs": [],
   "source": [
    "# read data from the silver tables\n",
    "education = spark.table(\"projeto.Education_State\")"
   ]
  },
  {
   "cell_type": "code",
   "execution_count": 3,
   "id": "43839dbc-92aa-4a53-8565-62960b51d0ee",
   "metadata": {},
   "outputs": [],
   "source": [
    "education = education.withColumn(\"Country\",F.lit(\"United States\"))\n",
    "\n",
    "education = education.withColumn(\"Difference_Less_than_High_School_Diploma\", col(\"Men_Less_than_High_School_Diploma\") - col(\"Women_Less_than_High_School_Diploma\"))\n",
    "education = education.withColumn(\"Difference_High_School_Diploma\", col(\"Men_High_School_Diploma\") - col(\"Women_High_School_Diploma\"))\n",
    "education = education.withColumn(\"Difference_College_or_Associate_Diploma\", col(\"Men_College_or_Associate_Diploma\") - col(\"Women_College_or_Associate_Diploma\"))\n",
    "education = education.withColumn(\"Difference_Bachelor_Diploma_or_Higher\", col(\"Men_Bachelor_Diploma_or_Higher\") - col(\"Women_Bachelor_Diploma_or_Higher\"))\n",
    "\n"
   ]
  },
  {
   "cell_type": "code",
   "execution_count": 4,
   "id": "96eb97aa-85bc-4300-9fcf-f15960d84246",
   "metadata": {},
   "outputs": [
    {
     "name": "stdout",
     "output_type": "stream",
     "text": [
      "root\n",
      " |-- State: string (nullable = true)\n",
      " |-- Men_Less_than_High_School_Diploma: float (nullable = true)\n",
      " |-- Women_Less_than_High_School_Diploma: float (nullable = true)\n",
      " |-- Men_High_School_Diploma: float (nullable = true)\n",
      " |-- Women_High_School_Diploma: float (nullable = true)\n",
      " |-- Men_College_or_Associate_Diploma: float (nullable = true)\n",
      " |-- Women_College_or_Associate_Diploma: float (nullable = true)\n",
      " |-- Men_Bachelor_Diploma_or_Higher: float (nullable = true)\n",
      " |-- Women_Bachelor_Diploma_or_Higher: float (nullable = true)\n",
      " |-- Country: string (nullable = false)\n",
      " |-- Difference_Less_than_High_School_Diploma: float (nullable = true)\n",
      " |-- Difference_High_School_Diploma: float (nullable = true)\n",
      " |-- Difference_College_or_Associate_Diploma: float (nullable = true)\n",
      " |-- Difference_Bachelor_Diploma_or_Higher: float (nullable = true)\n",
      "\n",
      "+--------------------+---------------------------------+-----------------------------------+-----------------------+-------------------------+--------------------------------+----------------------------------+------------------------------+--------------------------------+-------------+----------------------------------------+------------------------------+---------------------------------------+-------------------------------------+\n",
      "|               State|Men_Less_than_High_School_Diploma|Women_Less_than_High_School_Diploma|Men_High_School_Diploma|Women_High_School_Diploma|Men_College_or_Associate_Diploma|Women_College_or_Associate_Diploma|Men_Bachelor_Diploma_or_Higher|Women_Bachelor_Diploma_or_Higher|      Country|Difference_Less_than_High_School_Diploma|Difference_High_School_Diploma|Difference_College_or_Associate_Diploma|Difference_Bachelor_Diploma_or_Higher|\n",
      "+--------------------+---------------------------------+-----------------------------------+-----------------------+-------------------------+--------------------------------+----------------------------------+------------------------------+--------------------------------+-------------+----------------------------------------+------------------------------+---------------------------------------+-------------------------------------+\n",
      "|             Alabama|                             16.0|                               14.3|                   32.5|                     30.3|                            28.0|                              31.9|                          23.4|                            23.5|United States|                               1.6999998|                     2.2000008|                             -3.8999996|                          -0.10000038|\n",
      "|              Alaska|                              9.0|                                7.7|                   30.4|                     22.3|                            35.1|                              36.8|                          25.5|                            33.2|United States|                               1.3000002|                           8.1|                             -1.7000008|                            -7.700001|\n",
      "|             Arizona|                             14.5|                               13.8|                   24.4|                     25.1|                            32.9|                              34.3|                          28.2|                            26.8|United States|                               0.6999998|                   -0.70000076|                             -1.3999977|                            1.4000015|\n",
      "|            Arkansas|                             16.1|                               15.0|                   37.3|                     34.3|                            26.2|                              30.0|                          20.5|                            20.7|United States|                               1.1000004|                           3.0|                             -3.7999992|                          -0.20000076|\n",
      "|          California|                             18.6|                               18.0|                   21.3|                     20.5|                            28.9|                              30.6|                          31.2|                            30.9|United States|                               0.6000004|                    0.79999924|                             -1.7000008|                           0.30000114|\n",
      "|            Colorado|                             10.2|                                8.8|                   21.4|                     21.5|                            30.5|                              32.2|                          37.9|                            37.5|United States|                               1.3999996|                   -0.10000038|                             -1.7000008|                           0.40000153|\n",
      "|         Connecticut|                             10.9|                                9.8|                   28.3|                     26.8|                            23.1|                              26.1|                          37.7|                            37.4|United States|                               1.0999994|                           1.5|                                   -3.0|                           0.29999924|\n",
      "|            Delaware|                             12.2|                               11.6|                   32.1|                     30.3|                            25.8|                              28.7|                          30.0|                            29.3|United States|                               0.5999994|                     1.7999992|                             -2.9000015|                           0.70000076|\n",
      "|District of Columbia|                             10.1|                               10.0|                   19.4|                     18.9|                            14.9|                              17.5|                          55.6|                            53.5|United States|                              0.10000038|                           0.5|                             -2.6000004|                            2.0999985|\n",
      "|             Florida|                             14.0|                               12.5|                   29.2|                     29.6|                            28.9|                              31.2|                          27.9|                            26.7|United States|                                     1.5|                   -0.39999962|                             -2.3000011|                            1.1999989|\n",
      "|             Georgia|                             15.6|                               13.3|                   29.9|                     27.5|                            26.3|                              30.5|                          28.2|                            28.7|United States|                               2.3000002|                     2.3999996|                              -4.200001|                                 -0.5|\n",
      "|              Hawaii|                              8.2|                                9.7|                   28.3|                     25.5|                            33.3|                              32.3|                          30.1|                            32.6|United States|                                    -1.5|                     2.7999992|                                    1.0|                            -2.499998|\n",
      "|               Idaho|                             11.2|                               10.0|                   28.3|                     26.7|                            33.5|                              37.9|                          27.0|                            25.4|United States|                               1.1999998|                     1.5999985|                             -4.4000015|                            1.6000004|\n",
      "|            Illinois|                             12.8|                               11.4|                   27.6|                     26.7|                            27.8|                              29.2|                          31.8|                            32.7|United States|                               1.4000006|                     0.8999996|                             -1.4000015|                           -0.9000015|\n",
      "|             Indiana|                             13.1|                               11.7|                   35.3|                     33.7|                            28.0|                              30.6|                          23.5|                            23.9|United States|                               1.4000006|                     1.5999985|                             -2.6000004|                          -0.39999962|\n",
      "|                Iowa|                              8.9|                                8.0|                   35.1|                     31.4|                            30.8|                              33.9|                          25.2|                            26.7|United States|                               0.8999996|                     3.6999989|                             -3.1000023|                                 -1.5|\n",
      "|              Kansas|                             10.5|                                8.9|                   27.4|                     26.2|                            31.6|                              33.7|                          30.5|                            31.2|United States|                               1.6000004|                     1.1999989|                             -2.1000004|                          -0.70000076|\n",
      "|            Kentucky|                             17.5|                               14.8|                   34.2|                     31.6|                            25.9|                              30.8|                          22.4|                            22.7|United States|                               2.6999998|                     2.6000004|                             -4.8999996|                          -0.30000114|\n",
      "|           Louisiana|                             19.1|                               15.0|                   34.0|                     33.4|                            25.5|                              27.8|                          21.5|                            23.8|United States|                               4.1000004|                     0.5999985|                             -2.2999992|                           -2.2999992|\n",
      "|               Maine|                              9.2|                                6.8|                   36.4|                     33.1|                            28.4|                              30.2|                          26.0|                            29.9|United States|                               2.3999996|                      3.300003|                             -1.8000011|                           -3.8999996|\n",
      "+--------------------+---------------------------------+-----------------------------------+-----------------------+-------------------------+--------------------------------+----------------------------------+------------------------------+--------------------------------+-------------+----------------------------------------+------------------------------+---------------------------------------+-------------------------------------+\n",
      "only showing top 20 rows\n",
      "\n"
     ]
    }
   ],
   "source": [
    "education.printSchema()\n",
    "education.show()"
   ]
  },
  {
   "cell_type": "code",
   "execution_count": 5,
   "id": "67477980-cfeb-401b-a25d-1458f958692d",
   "metadata": {},
   "outputs": [],
   "source": [
    "customSchema = StructType([\n",
    "    StructField(\"Country\", StringType(), True),\n",
    "    StructField(\"State\", StringType(), True),        \n",
    "    StructField(\"Men_Less_than_High_School_Diploma\", FloatType(), True),        \n",
    "    StructField(\"Women_Less_than_High_School_Diploma\", FloatType(), True),\n",
    "    StructField(\"Men_High_School_Diploma\", FloatType(), True),\n",
    "    StructField(\"Women_High_School_Diploma\", FloatType(), True),\n",
    "    StructField(\"Men_College_or_Associate_Diploma\", FloatType(), True),\n",
    "    StructField(\"Women_College_or_Associate_Diploma\", FloatType(), True),\n",
    "    StructField(\"Men_Bachelor_Diploma_or_Higher\", FloatType(), True),\n",
    "    StructField(\"Women_Bachelor_Diploma_or_Higher\", FloatType(), True),\n",
    "    StructField(\"Difference_Bachelor_Diploma_or_Higher\", FloatType(), True),\n",
    "    StructField(\"Difference_College_or_Associate_Diploma\", FloatType(), True),\n",
    "    StructField(\"Difference_High_School_Diploma\", FloatType(), True),\n",
    "    StructField(\"Difference_Less_than_High_School_Diploma\", FloatType(), True),\n",
    "])\n",
    "\n",
    "education \\\n",
    "    .write \\\n",
    "    .format(\"delta\") \\\n",
    "    .mode(\"overwrite\") \\\n",
    "    .option(\"overwriteSchema\", \"true\") \\\n",
    "    .save(\"hdfs://hdfs-nn:9000/warehouse/projeto_gold.db/EducationUS\")"
   ]
  },
  {
   "cell_type": "code",
   "execution_count": null,
   "id": "1dfd5e48-4267-43f2-a9c5-238f67c519ce",
   "metadata": {},
   "outputs": [],
   "source": []
  }
 ],
 "metadata": {
  "kernelspec": {
   "display_name": "Python 3 (ipykernel)",
   "language": "python",
   "name": "python3"
  },
  "language_info": {
   "codemirror_mode": {
    "name": "ipython",
    "version": 3
   },
   "file_extension": ".py",
   "mimetype": "text/x-python",
   "name": "python",
   "nbconvert_exporter": "python",
   "pygments_lexer": "ipython3",
   "version": "3.11.5"
  }
 },
 "nbformat": 4,
 "nbformat_minor": 5
}
