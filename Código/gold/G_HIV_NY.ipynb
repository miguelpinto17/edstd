{
 "cells": [
  {
   "cell_type": "code",
   "execution_count": 1,
   "id": "7d5fff2b-f018-452e-bc43-697e946bfc0a",
   "metadata": {},
   "outputs": [],
   "source": [
    "from pyspark.sql import SparkSession\n",
    "from pyspark.sql import Row\n",
    "from delta import *\n",
    "from pyspark.sql.functions import expr, round, col, avg, format_number \n",
    "from pyspark.sql.types import DoubleType, StringType, StructField, StructType, IntegerType\n",
    "from pyspark.sql.functions import col, sum, round, lit, concat, when, count, coalesce, upper, udf\n",
    "\n",
    "warehouse_location = 'heducations://heducations-nn:9000/warehouse'\n",
    "\n",
    "builder = SparkSession \\\n",
    "    .builder \\\n",
    "    .master(\"local[2]\") \\\n",
    "    .appName(\"Python Spark DataFrames and SQL\") \\\n",
    "    .config(\"spark.sql.warehouse.dir\", warehouse_location) \\\n",
    "    .config(\"hive.metastore.uris\", \"thrift://hive-metastore:9083\") \\\n",
    "    .config(\"spark.sql.extensions\", \"io.delta.sql.DeltaSparkSessionExtension\") \\\n",
    "    .config(\"spark.sql.catalog.spark_catalog\", \"org.apache.spark.sql.delta.catalog.DeltaCatalog\") \\\n",
    "    .config(\"spark.jars.packages\", \"io.delta:delta-core_2.12:2.4.0\") \\\n",
    "    .enableHiveSupport() \\\n",
    "\n",
    "spark = builder.getOrCreate() #spark = configure_spark_with_delta_pip(builder).getOrCreate()\n",
    "spark = builder.getOrCreate() #spark = configure_spark_with_delta_pip(builder).getOrCreate()"
   ]
  },
  {
   "cell_type": "code",
   "execution_count": 2,
   "id": "ee1e354f-1200-4af1-8ac2-28f045e88f19",
   "metadata": {},
   "outputs": [],
   "source": [
    "# read data from the silver tables\n",
    "hiv = spark.table(\"projeto.Hiv_NY\")"
   ]
  },
  {
   "cell_type": "code",
   "execution_count": 3,
   "id": "c97336cd-ab53-4d5c-b64a-9e5b3d497ec4",
   "metadata": {},
   "outputs": [
    {
     "name": "stdout",
     "output_type": "stream",
     "text": [
      "+--------+-------------+-------------+-------------------------+-----------------------+------------------------------------+\n",
      "|   State|      Country|      Borough|Female_HIV_diagnosis_rate|Male_HIV_diagnosis_rate|Gender_Difference_HIV_diagnosis_rate|\n",
      "+--------+-------------+-------------+-------------------------+-----------------------+------------------------------------+\n",
      "|New York|United States|       Queens|                     7.80|                  36.32|                               28.52|\n",
      "|New York|United States|     Brooklyn|                    14.57|                  60.15|                               45.58|\n",
      "|New York|United States|Staten Island|                     8.79|                  24.31|                               15.52|\n",
      "|New York|United States|    Manhattan|                    18.81|                 104.22|                               85.41|\n",
      "|New York|United States|        Bronx|                    25.14|                  66.58|                               41.44|\n",
      "+--------+-------------+-------------+-------------------------+-----------------------+------------------------------------+\n",
      "\n"
     ]
    }
   ],
   "source": [
    "from pyspark.sql import SparkSession\n",
    "from pyspark.sql.functions import udf, col, avg, format_number\n",
    "from pyspark.sql.types import StringType\n",
    "\n",
    "# Crie uma Spark session\n",
    "spark = SparkSession.builder.appName(\"ExemploHIV\").getOrCreate()\n",
    "\n",
    "# Suponha que você tenha DataFrames chamados \"hivF\" e \"hivM\" com as modificações já feitas\n",
    "# Certifique-se de ajustar os nomes das colunas conforme sua estrutura real de dados\n",
    "\n",
    "# Função UDF para capitalizar a primeira letra de cada palavra\n",
    "def initcap_udf(s):\n",
    "    return ' '.join(word.capitalize() for word in s.split())\n",
    "\n",
    "# Registrar a UDF no Spark\n",
    "initcap_udf_spark = udf(initcap_udf, StringType())\n",
    "\n",
    "# Aplicar a UDF às colunas Borough e Gender nos DataFrames\n",
    "hiv = hiv.withColumn(\"Borough\", initcap_udf_spark(col(\"Borough\")))\n",
    "hiv = hiv.withColumn(\"Gender\", initcap_udf_spark(col(\"Gender\")))\n",
    "\n",
    "# Lista de bairros desejados\n",
    "bairros_desejados = [\"Bronx\", \"Brooklyn\", \"Manhattan\", \"Queens\", \"Staten Island\"]\n",
    "\n",
    "# Filtrar apenas as linhas desejadas para mulheres e homens de todas as idades nos DataFrames\n",
    "filtro_f = (col(\"Gender\") == \"Female\") & (col(\"Age\") == \"All\") & (col(\"Borough\").isin(bairros_desejados))\n",
    "filtro_m = (col(\"Gender\") == \"Male\") & (col(\"Age\") == \"All\") & (col(\"Borough\").isin(bairros_desejados))\n",
    "\n",
    "dados_todas_idades_f = hiv.filter(filtro_f).groupBy('Borough').agg(format_number(avg('HIV_diagnosis_rate'), 2).alias('Female_HIV_diagnosis_rate'))\n",
    "dados_todas_idades_m = hiv.filter(filtro_m).groupBy('Borough').agg(format_number(avg('HIV_diagnosis_rate'), 2).alias('Male_HIV_diagnosis_rate'))\n",
    "\n",
    "# Juntar os resultados das duas consultas usando o bairro como chave\n",
    "resultado_final = dados_todas_idades_f.join(dados_todas_idades_m, on='Borough')\n",
    "\n",
    "# Calcular a diferença entre as taxas masculinas e femininas\n",
    "resultado_final = resultado_final.withColumn('Gender_Difference_HIV_diagnosis_rate', col('Male_HIV_diagnosis_rate') - col('Female_HIV_diagnosis_rate'))\n",
    "\n",
    "# Adicionar as colunas 'State' e 'Country' no início\n",
    "resultado_final = resultado_final.withColumn(\"State\", lit(\"New York\")).withColumn(\"Country\", lit(\"United States\"))\n",
    "\n",
    "# Reorganizar a ordem das colunas\n",
    "resultado_final = resultado_final.select(\"State\", \"Country\", \"Borough\", \"Female_HIV_diagnosis_rate\", \"Male_HIV_diagnosis_rate\", \"Gender_Difference_HIV_diagnosis_rate\")\n",
    "\n",
    "# Exibir os resultados\n",
    "resultado_final.show()\n"
   ]
  },
  {
   "cell_type": "code",
   "execution_count": 4,
   "id": "7f4900f4-41e8-4145-bc1e-fd495b6a53d4",
   "metadata": {},
   "outputs": [],
   "source": [
    "customSchema = StructType([\n",
    "    StructField(\"Borough\", StringType(), True),        \n",
    "    StructField(\"Female_HIV_diagnosis_rate\", DoubleType(), True),\n",
    "    StructField(\"Male_HIV_diagnosis_rate\", DoubleType(), True),\n",
    "    StructField(\"Gender_Difference_HIV_diagnosis_rate\", DoubleType(), True),        \n",
    "])\n",
    "\n",
    "hiv \\\n",
    "    .write \\\n",
    "    .format(\"delta\") \\\n",
    "    .mode(\"overwrite\") \\\n",
    "    .option(\"overwriteSchema\", \"true\") \\\n",
    "    .save(\"hdfs://hdfs-nn:9000/warehouse/projeto_gold.db/Gender_Difference_Hiv_NY\")"
   ]
  },
  {
   "cell_type": "code",
   "execution_count": null,
   "id": "0ef984fa-bff2-45a6-80ce-c043d8379d1c",
   "metadata": {},
   "outputs": [],
   "source": []
  }
 ],
 "metadata": {
  "kernelspec": {
   "display_name": "Python 3 (ipykernel)",
   "language": "python",
   "name": "python3"
  },
  "language_info": {
   "codemirror_mode": {
    "name": "ipython",
    "version": 3
   },
   "file_extension": ".py",
   "mimetype": "text/x-python",
   "name": "python",
   "nbconvert_exporter": "python",
   "pygments_lexer": "ipython3",
   "version": "3.11.5"
  }
 },
 "nbformat": 4,
 "nbformat_minor": 5
}
