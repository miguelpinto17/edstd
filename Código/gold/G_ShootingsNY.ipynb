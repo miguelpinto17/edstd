{
 "cells": [
  {
   "cell_type": "code",
   "execution_count": 1,
   "id": "ee03c277-e9fc-4716-8217-5559832267f2",
   "metadata": {},
   "outputs": [],
   "source": [
    "from pyspark.sql import SparkSession\n",
    "from pyspark.sql import Row\n",
    "from delta import *\n",
    "from pyspark.sql.functions import expr, round, col\n",
    "from pyspark.sql.types import DoubleType, StringType, StructField, StructType, IntegerType\n",
    "from pyspark.sql.functions import col, sum, round, lit, concat, when, count, coalesce, upper, udf\n",
    "\n",
    "warehouse_location = 'heducations://heducations-nn:9000/warehouse'\n",
    "\n",
    "builder = SparkSession \\\n",
    "    .builder \\\n",
    "    .master(\"local[2]\") \\\n",
    "    .appName(\"Python Spark DataFrames and SQL\") \\\n",
    "    .config(\"spark.sql.warehouse.dir\", warehouse_location) \\\n",
    "    .config(\"hive.metastore.uris\", \"thrift://hive-metastore:9083\") \\\n",
    "    .config(\"spark.sql.extensions\", \"io.delta.sql.DeltaSparkSessionExtension\") \\\n",
    "    .config(\"spark.sql.catalog.spark_catalog\", \"org.apache.spark.sql.delta.catalog.DeltaCatalog\") \\\n",
    "    .config(\"spark.jars.packages\", \"io.delta:delta-core_2.12:2.4.0\") \\\n",
    "    .enableHiveSupport() \\\n",
    "\n",
    "spark = builder.getOrCreate() #spark = configure_spark_with_delta_pip(builder).getOrCreate()"
   ]
  },
  {
   "cell_type": "code",
   "execution_count": 2,
   "id": "348a355b-3d82-4cbc-b82e-3c610d940233",
   "metadata": {},
   "outputs": [],
   "source": [
    "# create Product dimension\n",
    "\n",
    "# read data from the silver tables\n",
    "shoot = spark.table(\"projeto.Shootings_NY\")"
   ]
  },
  {
   "cell_type": "code",
   "execution_count": 3,
   "id": "46d104a9-4378-4dba-ac9a-1176aff335e0",
   "metadata": {},
   "outputs": [
    {
     "name": "stdout",
     "output_type": "stream",
     "text": [
      "+-------------+-------+---------+\n",
      "|      Borough| Gender|Shootings|\n",
      "+-------------+-------+---------+\n",
      "|    Manhattan| Female|        2|\n",
      "|    Manhattan|Unknown|       40|\n",
      "|    Manhattan|   Male|       53|\n",
      "|Staten Island|Unknown|        5|\n",
      "|Staten Island|   Male|       12|\n",
      "|        Bronx| Female|        3|\n",
      "|        Bronx|Unknown|       83|\n",
      "|        Bronx|   Male|      142|\n",
      "|     Brooklyn| Female|        3|\n",
      "|     Brooklyn|Unknown|       89|\n",
      "|     Brooklyn|   Male|      104|\n",
      "|       Queens| Female|        4|\n",
      "|       Queens|Unknown|       40|\n",
      "|       Queens|   Male|       47|\n",
      "+-------------+-------+---------+\n",
      "\n"
     ]
    }
   ],
   "source": [
    "# Função UDF para capitalizar a primeira letra de cada palavra\n",
    "def initcap_udf(s):\n",
    "    return ' '.join(word.capitalize() for word in s.split())\n",
    "\n",
    "# Registrar a UDF no Spark\n",
    "initcap_udf_spark = udf(initcap_udf, StringType())\n",
    "\n",
    "# Converta as colunas para a formatação desejada usando a UDF\n",
    "shoot = shoot.withColumn(\"Gender\", initcap_udf_spark(upper(col(\"Gender\"))))\n",
    "shoot = shoot.withColumn(\"Borough\", initcap_udf_spark(upper(col(\"Borough\"))))\n",
    "\n",
    "# Lista de boroughs\n",
    "boroughs = [\"Manhattan\", \"Staten Island\", \"Bronx\", \"Brooklyn\", \"Queens\"]\n",
    "\n",
    "# DataFrame para armazenar os resultados\n",
    "shootings = None\n",
    "\n",
    "for borough in boroughs:\n",
    "    # Criação de uma view temporária para o borough específico\n",
    "    temp_view = shoot.filter(col(\"Borough\") == borough)\n",
    "\n",
    "    # Consulta SQL simples para contar shootings por borough e gender\n",
    "    borough_result = temp_view.groupBy(\"Gender\").agg(count(\"*\").alias(\"Shootings\"))\n",
    "\n",
    "    # Adiciona uma coluna Borough com o valor específico do loop\n",
    "    borough_result = borough_result.withColumn(\"Borough\", lit(borough))\n",
    "\n",
    "    # Reordena as colunas\n",
    "    borough_result = borough_result.select(\"Borough\", \"Gender\", \"Shootings\")\n",
    "\n",
    "    # União dos resultados\n",
    "    if shootings is None:\n",
    "        shootings = borough_result\n",
    "    else:\n",
    "        shootings = shootings.union(borough_result)\n",
    "\n",
    "# Mostra o DataFrame final\n",
    "shootings.show()"
   ]
  },
  {
   "cell_type": "code",
   "execution_count": 4,
   "id": "80329d94-73f4-458d-8586-360a2a1ad08c",
   "metadata": {},
   "outputs": [
    {
     "name": "stdout",
     "output_type": "stream",
     "text": [
      "+-------------+------+----+-------+\n",
      "|      Borough|Female|Male|Unknown|\n",
      "+-------------+------+----+-------+\n",
      "|       Queens|     4|  47|     40|\n",
      "|     Brooklyn|     3| 104|     89|\n",
      "|Staten Island|     0|  12|      5|\n",
      "|    Manhattan|     2|  53|     40|\n",
      "|        Bronx|     3| 142|     83|\n",
      "+-------------+------+----+-------+\n",
      "\n"
     ]
    }
   ],
   "source": [
    "from pyspark.sql.functions import col, first, lit\n",
    "\n",
    "# Your previous code remains unchanged until the point you showed the final DataFrame 'shootings'\n",
    "\n",
    "# Pivoting the 'Gender' column\n",
    "pivot_result = shootings.groupBy('Borough').pivot('Gender').agg(first('Shootings')).fillna(0)\n",
    "\n",
    "for gender_col in pivot_result.columns[1:]:  # Starting from the second column\n",
    "    pivot_result = pivot_result.withColumn(gender_col, col(gender_col).cast('int'))\n",
    "\n",
    "\n",
    "pivot_result.show()"
   ]
  },
  {
   "cell_type": "code",
   "execution_count": 5,
   "id": "6700d84f-6199-4bc4-a86d-bf9bf3d16432",
   "metadata": {},
   "outputs": [],
   "source": [
    "pivot_result = pivot_result.withColumn(\"State\", lit(\"New York\")).withColumn(\"Country\", lit(\"United States\"))"
   ]
  },
  {
   "cell_type": "code",
   "execution_count": 6,
   "id": "4b8f4b76-e2e7-4c0f-a616-38b1e261dc81",
   "metadata": {},
   "outputs": [
    {
     "data": {
      "text/plain": [
       "DataFrame[]"
      ]
     },
     "execution_count": 6,
     "metadata": {},
     "output_type": "execute_result"
    }
   ],
   "source": [
    "# create gold database\n",
    "spark.sql(\n",
    "    \"\"\"\n",
    "    CREATE DATABASE IF NOT EXISTS proj LOCATION 'hdfs://hdfs-nn:9000/warehouse/projeto_gold.db'\n",
    "    \"\"\"\n",
    ")"
   ]
  },
  {
   "cell_type": "code",
   "execution_count": 7,
   "id": "29be5ea5-e6ca-460c-883f-301cbb59e44d",
   "metadata": {},
   "outputs": [
    {
     "data": {
      "text/html": [
       "<div>\n",
       "<style scoped>\n",
       "    .dataframe tbody tr th:only-of-type {\n",
       "        vertical-align: middle;\n",
       "    }\n",
       "\n",
       "    .dataframe tbody tr th {\n",
       "        vertical-align: top;\n",
       "    }\n",
       "\n",
       "    .dataframe thead th {\n",
       "        text-align: right;\n",
       "    }\n",
       "</style>\n",
       "<table border=\"1\" class=\"dataframe\">\n",
       "  <thead>\n",
       "    <tr style=\"text-align: right;\">\n",
       "      <th></th>\n",
       "      <th>namespace</th>\n",
       "      <th>tableName</th>\n",
       "      <th>isTemporary</th>\n",
       "    </tr>\n",
       "  </thead>\n",
       "  <tbody>\n",
       "    <tr>\n",
       "      <th>0</th>\n",
       "      <td>projeto_gold</td>\n",
       "      <td>earningsus</td>\n",
       "      <td>False</td>\n",
       "    </tr>\n",
       "    <tr>\n",
       "      <th>1</th>\n",
       "      <td>projeto_gold</td>\n",
       "      <td>educationny</td>\n",
       "      <td>False</td>\n",
       "    </tr>\n",
       "    <tr>\n",
       "      <th>2</th>\n",
       "      <td>projeto_gold</td>\n",
       "      <td>educationus</td>\n",
       "      <td>False</td>\n",
       "    </tr>\n",
       "    <tr>\n",
       "      <th>3</th>\n",
       "      <td>projeto_gold</td>\n",
       "      <td>gender_difference_hiv_diagnosis_rate</td>\n",
       "      <td>False</td>\n",
       "    </tr>\n",
       "    <tr>\n",
       "      <th>4</th>\n",
       "      <td>projeto_gold</td>\n",
       "      <td>gender_difference_hiv_ny</td>\n",
       "      <td>False</td>\n",
       "    </tr>\n",
       "    <tr>\n",
       "      <th>5</th>\n",
       "      <td>projeto_gold</td>\n",
       "      <td>shootingsus</td>\n",
       "      <td>False</td>\n",
       "    </tr>\n",
       "  </tbody>\n",
       "</table>\n",
       "</div>"
      ],
      "text/plain": [
       "      namespace                             tableName  isTemporary\n",
       "0  projeto_gold                            earningsus        False\n",
       "1  projeto_gold                           educationny        False\n",
       "2  projeto_gold                           educationus        False\n",
       "3  projeto_gold  gender_difference_hiv_diagnosis_rate        False\n",
       "4  projeto_gold              gender_difference_hiv_ny        False\n",
       "5  projeto_gold                           shootingsus        False"
      ]
     },
     "execution_count": 7,
     "metadata": {},
     "output_type": "execute_result"
    }
   ],
   "source": [
    "spark.sql(\n",
    "    \"\"\"\n",
    "    SHOW TABLES FROM projeto_gold\n",
    "    \"\"\"\n",
    ").toPandas()"
   ]
  },
  {
   "cell_type": "code",
   "execution_count": 8,
   "id": "ab14da19-a60c-449a-a726-6998830afe6c",
   "metadata": {},
   "outputs": [],
   "source": [
    "pivot_result \\\n",
    "    .write \\\n",
    "    .format(\"delta\") \\\n",
    "    .mode(\"overwrite\") \\\n",
    "    .save(\"hdfs://hdfs-nn:9000/warehouse/projeto_gold.db/ShootingsUS\")\n",
    "       "
   ]
  },
  {
   "cell_type": "code",
   "execution_count": null,
   "id": "9db9b804-d2d1-4176-8612-9d21629e8186",
   "metadata": {},
   "outputs": [],
   "source": []
  }
 ],
 "metadata": {
  "kernelspec": {
   "display_name": "Python 3 (ipykernel)",
   "language": "python",
   "name": "python3"
  },
  "language_info": {
   "codemirror_mode": {
    "name": "ipython",
    "version": 3
   },
   "file_extension": ".py",
   "mimetype": "text/x-python",
   "name": "python",
   "nbconvert_exporter": "python",
   "pygments_lexer": "ipython3",
   "version": "3.11.5"
  }
 },
 "nbformat": 4,
 "nbformat_minor": 5
}
