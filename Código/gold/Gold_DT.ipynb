{
 "cells": [
  {
   "cell_type": "code",
   "execution_count": 1,
   "id": "6223e75e-9373-41f7-b135-84dd2816e37d",
   "metadata": {},
   "outputs": [],
   "source": [
    "from pyspark.sql import SparkSession\n",
    "from pyspark.sql import Row\n",
    "from delta import *\n",
    "\n",
    "\n",
    "warehouse_location = 'hdfs://hdfs-nn:9000/warehouse'\n",
    "\n",
    "builder = SparkSession \\\n",
    "    .builder \\\n",
    "    .appName(\"Python Spark SQL Hive integration example\") \\\n",
    "    .config(\"spark.sql.warehouse.dir\", warehouse_location) \\\n",
    "    .config(\"hive.metastore.uris\", \"thrift://hive-metastore:9083\") \\\n",
    "    .config(\"spark.sql.extensions\", \"io.delta.sql.DeltaSparkSessionExtension\") \\\n",
    "    .config(\"spark.sql.catalog.spark_catalog\", \"org.apache.spark.sql.delta.catalog.DeltaCatalog\") \\\n",
    "    .config(\"spark.jars.packages\", \"io.delta:delta-core_2.12:2.4.0\") \\\n",
    "    .enableHiveSupport() \\\n",
    "\n",
    "#spark =\n",
    "spark = configure_spark_with_delta_pip(builder).getOrCreate()"
   ]
  },
  {
   "cell_type": "code",
   "execution_count": 2,
   "id": "8c61ba7d-e76c-4467-896a-10fef1553f33",
   "metadata": {},
   "outputs": [
    {
     "data": {
      "text/plain": [
       "DataFrame[]"
      ]
     },
     "execution_count": 2,
     "metadata": {},
     "output_type": "execute_result"
    }
   ],
   "source": [
    "# create gold database\n",
    "spark.sql(\n",
    "    \"\"\"\n",
    "    CREATE DATABASE IF NOT EXISTS projeto_gold LOCATION 'hdfs://hdfs-nn:9000/warehouse/projeto_gold.db'\n",
    "    \"\"\"\n",
    ")"
   ]
  },
  {
   "cell_type": "code",
   "execution_count": 3,
   "id": "1e9bdc32-c210-4ae4-8528-20f95e23c2c2",
   "metadata": {},
   "outputs": [
    {
     "data": {
      "text/html": [
       "<div>\n",
       "<style scoped>\n",
       "    .dataframe tbody tr th:only-of-type {\n",
       "        vertical-align: middle;\n",
       "    }\n",
       "\n",
       "    .dataframe tbody tr th {\n",
       "        vertical-align: top;\n",
       "    }\n",
       "\n",
       "    .dataframe thead th {\n",
       "        text-align: right;\n",
       "    }\n",
       "</style>\n",
       "<table border=\"1\" class=\"dataframe\">\n",
       "  <thead>\n",
       "    <tr style=\"text-align: right;\">\n",
       "      <th></th>\n",
       "      <th>namespace</th>\n",
       "      <th>tableName</th>\n",
       "      <th>isTemporary</th>\n",
       "    </tr>\n",
       "  </thead>\n",
       "  <tbody>\n",
       "    <tr>\n",
       "      <th>0</th>\n",
       "      <td>projeto_gold</td>\n",
       "      <td>earningsus</td>\n",
       "      <td>False</td>\n",
       "    </tr>\n",
       "    <tr>\n",
       "      <th>1</th>\n",
       "      <td>projeto_gold</td>\n",
       "      <td>educationny</td>\n",
       "      <td>False</td>\n",
       "    </tr>\n",
       "    <tr>\n",
       "      <th>2</th>\n",
       "      <td>projeto_gold</td>\n",
       "      <td>educationus</td>\n",
       "      <td>False</td>\n",
       "    </tr>\n",
       "    <tr>\n",
       "      <th>3</th>\n",
       "      <td>projeto_gold</td>\n",
       "      <td>gender_difference_hiv_diagnosis_rate</td>\n",
       "      <td>False</td>\n",
       "    </tr>\n",
       "    <tr>\n",
       "      <th>4</th>\n",
       "      <td>projeto_gold</td>\n",
       "      <td>shootingsus</td>\n",
       "      <td>False</td>\n",
       "    </tr>\n",
       "  </tbody>\n",
       "</table>\n",
       "</div>"
      ],
      "text/plain": [
       "      namespace                             tableName  isTemporary\n",
       "0  projeto_gold                            earningsus        False\n",
       "1  projeto_gold                           educationny        False\n",
       "2  projeto_gold                           educationus        False\n",
       "3  projeto_gold  gender_difference_hiv_diagnosis_rate        False\n",
       "4  projeto_gold                           shootingsus        False"
      ]
     },
     "execution_count": 3,
     "metadata": {},
     "output_type": "execute_result"
    }
   ],
   "source": [
    "spark.sql(\n",
    "    \"\"\"\n",
    "    SHOW TABLES FROM projeto_gold\n",
    "    \"\"\"\n",
    ").toPandas()"
   ]
  },
  {
   "cell_type": "code",
   "execution_count": 4,
   "id": "05c395cd-cb5f-460c-8be6-1606682d09b2",
   "metadata": {},
   "outputs": [
    {
     "data": {
      "text/plain": [
       "DataFrame[]"
      ]
     },
     "execution_count": 4,
     "metadata": {},
     "output_type": "execute_result"
    }
   ],
   "source": [
    "spark.sql(\"\"\"\n",
    "    DROP TABLE IF EXISTS projeto_gold.Gender_Difference_Hiv_NY\n",
    "     \"\"\"\n",
    " )\n",
    "\n",
    "spark.sql(\"\"\"\n",
    "    CREATE EXTERNAL TABLE projeto_gold.Gender_Difference_Hiv_NY (\n",
    "        State String,\n",
    "        Country String,\n",
    "        Borough String,\n",
    "        Female_HIV_diagnosis_rate Double,\n",
    "        Male_HIV_diagnosis_rate Double,\n",
    "        Gender_Difference_HIV_diagnosis_rate Double\n",
    "    )\n",
    "    USING DELTA\n",
    "    LOCATION 'hdfs://hdfs-nn:9000/warehouse/projeto_gold.db/Gender_Difference_Hiv_NY'\n",
    "\"\"\")\n"
   ]
  },
  {
   "cell_type": "code",
   "execution_count": 5,
   "id": "73e64df4-6dbf-4ee9-9ef9-aa2d01cad3e7",
   "metadata": {},
   "outputs": [
    {
     "data": {
      "text/plain": [
       "DataFrame[]"
      ]
     },
     "execution_count": 5,
     "metadata": {},
     "output_type": "execute_result"
    }
   ],
   "source": [
    "spark.sql(\"\"\"\n",
    "    DROP TABLE IF EXISTS projeto_gold.EducationUS\n",
    "     \"\"\"\n",
    " )\n",
    "\n",
    "spark.sql (\n",
    "    \"\"\"\n",
    "CREATE EXTERNAL TABLE projeto_gold.EducationUS (\n",
    "    Country STRING,\n",
    "    State STRING,\n",
    "    Men_Less_than_High_School_Diploma FLOAT,\n",
    "    Women_Less_than_High_School_Diploma FLOAT,\n",
    "    Men_High_School_Diploma FLOAT,\n",
    "    Women_High_School_Diploma FLOAT,\n",
    "    Men_College_or_Associate_Diploma FLOAT,\n",
    "    Women_College_or_Associate_Diploma FLOAT,\n",
    "    Men_Bachelor_Diploma_or_Higher FLOAT,\n",
    "    Women_Bachelor_Diploma_or_Higher FLOAT,\n",
    "    Difference_Bachelor_Diploma_or_Higher FLOAT,\n",
    "    Difference_College_or_Associate_Diploma FLOAT,\n",
    "    Difference_High_School_Diploma FLOAT,\n",
    "    Difference_Less_than_High_School_Diploma FLOAT\n",
    ")\n",
    "USING DELTA\n",
    "LOCATION 'hdfs://hdfs-nn:9000/warehouse/projeto_gold.db/EducationUS/'\n",
    "\"\"\"\n",
    ")\n"
   ]
  },
  {
   "cell_type": "code",
   "execution_count": 6,
   "id": "273ce8da-6f10-4b41-bf8f-071f3f4c6242",
   "metadata": {},
   "outputs": [
    {
     "data": {
      "text/plain": [
       "DataFrame[]"
      ]
     },
     "execution_count": 6,
     "metadata": {},
     "output_type": "execute_result"
    }
   ],
   "source": [
    "spark.sql(\"\"\"\n",
    "    DROP TABLE IF EXISTS projeto_gold.EducationNY\n",
    "\"\"\")\n",
    "spark.sql(\"\"\"\n",
    "    CREATE EXTERNAL TABLE projeto_gold.EducationNY (\n",
    "        Borough String,\n",
    "        Female_Average_Dropout_Rate Double,\n",
    "        Female_Average_Graduation_Rate Double,\n",
    "        Male_Average_Dropout_Rate Double,\n",
    "        Male_Average_Graduation_Rate Double,\n",
    "        State String,\n",
    "        Country String\n",
    "    )\n",
    "    USING DELTA\n",
    "    LOCATION 'hdfs://hdfs-nn:9000/warehouse/projeto_gold.db/EducationNY/'\n",
    "\"\"\")\n",
    "\n"
   ]
  },
  {
   "cell_type": "code",
   "execution_count": 7,
   "id": "a38f0fef-c55b-480a-8ac1-12ab7c5d8268",
   "metadata": {},
   "outputs": [
    {
     "data": {
      "text/plain": [
       "DataFrame[]"
      ]
     },
     "execution_count": 7,
     "metadata": {},
     "output_type": "execute_result"
    }
   ],
   "source": [
    "spark.sql(\"\"\"\n",
    "    DROP TABLE IF EXISTS projeto_gold.ShootingsUS\n",
    "\"\"\")\n",
    "spark.sql(\"\"\"\n",
    "    CREATE EXTERNAL TABLE projeto_gold.ShootingsUS (\n",
    "        Borough String,\n",
    "        Female Integer,\n",
    "        Male Integer,\n",
    "        Unknown Integer,\n",
    "        State String,\n",
    "        Country String\n",
    "    )\n",
    "    USING DELTA\n",
    "    LOCATION 'hdfs://hdfs-nn:9000/warehouse/projeto_gold.db/ShootingsUS'\n",
    "\"\"\")\n",
    "\n"
   ]
  },
  {
   "cell_type": "code",
   "execution_count": 8,
   "id": "417d1032-4cd0-4bc7-99d8-8c74b324ebe6",
   "metadata": {},
   "outputs": [
    {
     "data": {
      "text/plain": [
       "DataFrame[]"
      ]
     },
     "execution_count": 8,
     "metadata": {},
     "output_type": "execute_result"
    }
   ],
   "source": [
    "spark.sql(\n",
    "    \"\"\"\n",
    "    DROP TABLE IF EXISTS projeto_gold.EarningsUS\n",
    "    \"\"\"\n",
    ")\n",
    "\n",
    "spark.sql(\n",
    "    \"\"\"\n",
    "    CREATE EXTERNAL TABLE projeto_gold.EarningsUS (\n",
    "        State String,\n",
    "        Male Double,\n",
    "        Female Double,\n",
    "        Sum Double,\n",
    "        Difference Double,\n",
    "        Country String\n",
    "    )\n",
    "    USING DELTA\n",
    "    LOCATION 'hdfs://hdfs-nn:9000/warehouse/projeto_gold.db/EarningsUS/'\n",
    "    \"\"\"\n",
    ")"
   ]
  },
  {
   "cell_type": "code",
   "execution_count": null,
   "id": "ffeff9fa-f163-4565-954d-51097e1f4ac6",
   "metadata": {},
   "outputs": [],
   "source": []
  }
 ],
 "metadata": {
  "kernelspec": {
   "display_name": "Python 3 (ipykernel)",
   "language": "python",
   "name": "python3"
  },
  "language_info": {
   "codemirror_mode": {
    "name": "ipython",
    "version": 3
   },
   "file_extension": ".py",
   "mimetype": "text/x-python",
   "name": "python",
   "nbconvert_exporter": "python",
   "pygments_lexer": "ipython3",
   "version": "3.11.5"
  }
 },
 "nbformat": 4,
 "nbformat_minor": 5
}
