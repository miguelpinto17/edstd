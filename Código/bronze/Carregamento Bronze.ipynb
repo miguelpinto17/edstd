{
 "cells": [
  {
   "cell_type": "code",
   "execution_count": 1,
   "id": "7a36aa90-a404-4051-bdd0-b168de394283",
   "metadata": {},
   "outputs": [
    {
     "name": "stdout",
     "output_type": "stream",
     "text": [
      "Requirement already satisfied: hdfs in /opt/conda/lib/python3.11/site-packages (2.7.2)\n",
      "Requirement already satisfied: docopt in /opt/conda/lib/python3.11/site-packages (from hdfs) (0.6.2)\n",
      "Requirement already satisfied: requests>=2.7.0 in /opt/conda/lib/python3.11/site-packages (from hdfs) (2.31.0)\n",
      "Requirement already satisfied: six>=1.9.0 in /opt/conda/lib/python3.11/site-packages (from hdfs) (1.16.0)\n",
      "Requirement already satisfied: charset-normalizer<4,>=2 in /opt/conda/lib/python3.11/site-packages (from requests>=2.7.0->hdfs) (3.2.0)\n",
      "Requirement already satisfied: idna<4,>=2.5 in /opt/conda/lib/python3.11/site-packages (from requests>=2.7.0->hdfs) (3.4)\n",
      "Requirement already satisfied: urllib3<3,>=1.21.1 in /opt/conda/lib/python3.11/site-packages (from requests>=2.7.0->hdfs) (2.0.4)\n",
      "Requirement already satisfied: certifi>=2017.4.17 in /opt/conda/lib/python3.11/site-packages (from requests>=2.7.0->hdfs) (2023.7.22)\n"
     ]
    }
   ],
   "source": [
    "import sys\n",
    "from os import PathLike\n",
    "from hdfs import InsecureClient\n",
    "!{sys.executable} -m pip install hdfs"
   ]
  },
  {
   "cell_type": "code",
   "execution_count": 2,
   "id": "a186c3f0-0888-4902-a6e7-28673925b7d0",
   "metadata": {},
   "outputs": [
    {
     "data": {
      "text/plain": [
       "'/projeto/bronze/EducationNY.csv'"
      ]
     },
     "execution_count": 2,
     "metadata": {},
     "output_type": "execute_result"
    }
   ],
   "source": [
    "client = InsecureClient(\"http://hdfs-nn:9870\", user=\"anonymous\")\n",
    "\n",
    "from_path = \"csv/EducationNY.csv\"\n",
    "to_path = \"/projeto/bronze/EducationNY.csv\"\n",
    "client.delete(to_path)\n",
    "client.upload(to_path, from_path)"
   ]
  },
  {
   "cell_type": "code",
   "execution_count": 3,
   "id": "8403180a-b35c-48b7-90ba-f75ad936b2d9",
   "metadata": {},
   "outputs": [
    {
     "data": {
      "text/plain": [
       "'/projeto/bronze/Shootings_NY.csv'"
      ]
     },
     "execution_count": 3,
     "metadata": {},
     "output_type": "execute_result"
    }
   ],
   "source": [
    "client = InsecureClient(\"http://hdfs-nn:9870\", user=\"anonymous\")\n",
    "\n",
    "from_path =\"csv/ShootingsNY.csv\"\n",
    "to_path =\"/projeto/bronze/Shootings_NY.csv\"\n",
    "client.delete(to_path)\n",
    "client.upload(to_path, from_path)"
   ]
  },
  {
   "cell_type": "code",
   "execution_count": 4,
   "id": "8d983af2-1604-4b7f-be04-7b0cc05c9d6f",
   "metadata": {},
   "outputs": [
    {
     "data": {
      "text/plain": [
       "'/projeto/bronze/Hiv_NY.csv'"
      ]
     },
     "execution_count": 4,
     "metadata": {},
     "output_type": "execute_result"
    }
   ],
   "source": [
    "client = InsecureClient(\"http://hdfs-nn:9870\", user=\"anonymous\")\n",
    "\n",
    "#import csv HIV_NY\n",
    "from_path = \"csv/HIV_NY.csv\"\n",
    "to_path = \"/projeto/bronze/Hiv_NY.csv\"\n",
    "client.delete(to_path)\n",
    "client.upload(to_path, from_path)"
   ]
  },
  {
   "cell_type": "code",
   "execution_count": 5,
   "id": "b2351de3-0d6d-4f3a-ae58-a32b2f990ea5",
   "metadata": {},
   "outputs": [
    {
     "data": {
      "text/plain": [
       "'/projeto/bronze/Stats_Series.csv'"
      ]
     },
     "execution_count": 5,
     "metadata": {},
     "output_type": "execute_result"
    }
   ],
   "source": [
    "client = InsecureClient(\"http://hdfs-nn:9870\", user=\"anonymous\")\n",
    "\n",
    "from_path =\"csv/Gender_StatsSeries.csv\"\n",
    "to_path =\"/projeto/bronze/Stats_Series.csv\"\n",
    "client.delete(to_path)\n",
    "client.upload(to_path, from_path)"
   ]
  },
  {
   "cell_type": "code",
   "execution_count": 6,
   "id": "6f6fee3c-88c0-4d9a-bb8e-fc52792719c4",
   "metadata": {},
   "outputs": [
    {
     "data": {
      "text/plain": [
       "'/projeto/bronze/StatsSeries_Time.csv'"
      ]
     },
     "execution_count": 6,
     "metadata": {},
     "output_type": "execute_result"
    }
   ],
   "source": [
    "client = InsecureClient(\"http://hdfs-nn:9870\", user=\"anonymous\")\n",
    "\n",
    "from_path = \"csv/Gender_StatsSeries-Time.csv\"\n",
    "to_path = \"/projeto/bronze/StatsSeries_Time.csv\"\n",
    "client.delete(to_path)\n",
    "client.upload(to_path, from_path)"
   ]
  },
  {
   "cell_type": "code",
   "execution_count": 7,
   "id": "b5ccb0d7-1abd-4bb5-8364-1088337a86ec",
   "metadata": {},
   "outputs": [
    {
     "data": {
      "text/plain": [
       "'/projeto/bronze/FootNote.csv'"
      ]
     },
     "execution_count": 7,
     "metadata": {},
     "output_type": "execute_result"
    }
   ],
   "source": [
    "client = InsecureClient(\"http://hdfs-nn:9870\", user=\"anonymous\")\n",
    "\n",
    "#import csv StatsFootNote\n",
    "from_path = \"csv/Gender_StatsFootNote.csv\"\n",
    "to_path = \"/projeto/bronze/FootNote.csv\"\n",
    "client.delete(to_path)\n",
    "client.upload(to_path, from_path)"
   ]
  },
  {
   "cell_type": "code",
   "execution_count": 8,
   "id": "4ff798d8-d865-448c-b28b-085ac0daf2fc",
   "metadata": {},
   "outputs": [
    {
     "data": {
      "text/plain": [
       "'/projeto/bronze/Stats_Data.csv'"
      ]
     },
     "execution_count": 8,
     "metadata": {},
     "output_type": "execute_result"
    }
   ],
   "source": [
    "client = InsecureClient(\"http://hdfs-nn:9870\", user=\"anonymous\")\n",
    "\n",
    "from_path = \"csv/Gender_StatsData.csv\"\n",
    "to_path = \"/projeto/bronze/Stats_Data.csv\"\n",
    "client.delete(to_path)\n",
    "client.upload(to_path, from_path)"
   ]
  },
  {
   "cell_type": "code",
   "execution_count": 9,
   "id": "aaa5ed14-3a0e-4f4d-b4d7-cca630b56b56",
   "metadata": {},
   "outputs": [
    {
     "data": {
      "text/plain": [
       "'/projeto/bronze/Country_Series.csv'"
      ]
     },
     "execution_count": 9,
     "metadata": {},
     "output_type": "execute_result"
    }
   ],
   "source": [
    "client = InsecureClient(\"http://hdfs-nn:9870\", user=\"anonymous\")\n",
    "#import csv Gender_StatsCountry-Series\n",
    "from_path = \"csv/Gender_StatsCountry-Series.csv\"\n",
    "to_path = \"/projeto/bronze/Country_Series.csv\"\n",
    "client.delete(to_path)\n",
    "client.upload(to_path, from_path)"
   ]
  },
  {
   "cell_type": "code",
   "execution_count": 10,
   "id": "d3e74ad1-522a-4846-bea9-d3015671bcf2",
   "metadata": {},
   "outputs": [
    {
     "data": {
      "text/plain": [
       "'/projeto/bronze/EducationUS.csv'"
      ]
     },
     "execution_count": 10,
     "metadata": {},
     "output_type": "execute_result"
    }
   ],
   "source": [
    "client = InsecureClient(\"http://hdfs-nn:9870\", user=\"anonymous\")\n",
    "#import csv Gender_StatsCountry-Series\n",
    "from_path = \"csv/EducationUS.csv\"\n",
    "to_path = \"/projeto/bronze/EducationUS.csv\"\n",
    "client.delete(to_path)\n",
    "client.upload(to_path, from_path)"
   ]
  },
  {
   "cell_type": "code",
   "execution_count": 11,
   "id": "310a0220-739c-45d0-9ce0-fe94fe0f8a59",
   "metadata": {},
   "outputs": [
    {
     "data": {
      "text/plain": [
       "'/projeto/bronze/EarningsUS.csv'"
      ]
     },
     "execution_count": 11,
     "metadata": {},
     "output_type": "execute_result"
    }
   ],
   "source": [
    "client = InsecureClient(\"http://hdfs-nn:9870\", user=\"anonymous\")\n",
    "#import csv Gender_StatsCountry-Series\n",
    "from_path = \"csv/EarningsUS.csv\"\n",
    "to_path = \"/projeto/bronze/EarningsUS.csv\"\n",
    "client.delete(to_path)\n",
    "client.upload(to_path, from_path)"
   ]
  },
  {
   "cell_type": "code",
   "execution_count": 12,
   "id": "379cbfe1-51ce-4893-b793-d963f07bf8c3",
   "metadata": {},
   "outputs": [
    {
     "data": {
      "text/plain": [
       "'/projeto/bronze/Stats_Country.csv'"
      ]
     },
     "execution_count": 12,
     "metadata": {},
     "output_type": "execute_result"
    }
   ],
   "source": [
    "# Copy File to bronze layer\n",
    "from os import PathLike\n",
    "from hdfs import InsecureClient\n",
    "client = InsecureClient(\"http://hdfs-nn:9870\", user=\"anonymous\")\n",
    "\n",
    "from_path = \"csv/Gender_StatsCountry.csv\"\n",
    "to_path = \"/projeto/bronze/Stats_Country.csv\"\n",
    "client.delete(to_path)\n",
    "client.upload(to_path, from_path)"
   ]
  },
  {
   "cell_type": "code",
   "execution_count": null,
   "id": "5dd3808f-0d3d-4a30-b249-0d3731669e02",
   "metadata": {},
   "outputs": [],
   "source": []
  }
 ],
 "metadata": {
  "kernelspec": {
   "display_name": "Python 3 (ipykernel)",
   "language": "python",
   "name": "python3"
  },
  "language_info": {
   "codemirror_mode": {
    "name": "ipython",
    "version": 3
   },
   "file_extension": ".py",
   "mimetype": "text/x-python",
   "name": "python",
   "nbconvert_exporter": "python",
   "pygments_lexer": "ipython3",
   "version": "3.11.5"
  }
 },
 "nbformat": 4,
 "nbformat_minor": 5
}
